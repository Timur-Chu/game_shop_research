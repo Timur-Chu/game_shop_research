{
 "cells": [
  {
   "cell_type": "markdown",
   "metadata": {},
   "source": [
    "В ходе исследования необхождимо выявить определяющие успешность игры закономерности. Это позволит сделать ставку на потенциально популярный продукт и спланировать рекламные кампании.\n",
    "Необходимо будет решить ряд задач:\n",
    "\n",
    "1. Открыть файл с данными и изучить общую информацию\n",
    "2. Подготовить данные\n",
    "3. Провести исследовательский анализ данных\n",
    "4. Составить портрет пользователя каждого региона\n",
    "5. Проверите гипотезы\n",
    "6. Написать общий вывод "
   ]
  },
  {
   "cell_type": "markdown",
   "metadata": {},
   "source": [
    "## Изучение данных из файла"
   ]
  },
  {
   "cell_type": "code",
   "execution_count": 1,
   "metadata": {},
   "outputs": [],
   "source": [
    "import pandas as pd\n",
    "import numpy as np\n",
    "import matplotlib.pyplot as plt\n",
    "import seaborn\n",
    "from scipy import stats as st"
   ]
  },
  {
   "cell_type": "code",
   "execution_count": 2,
   "metadata": {},
   "outputs": [
    {
     "data": {
      "text/html": [
       "<div>\n",
       "<style scoped>\n",
       "    .dataframe tbody tr th:only-of-type {\n",
       "        vertical-align: middle;\n",
       "    }\n",
       "\n",
       "    .dataframe tbody tr th {\n",
       "        vertical-align: top;\n",
       "    }\n",
       "\n",
       "    .dataframe thead th {\n",
       "        text-align: right;\n",
       "    }\n",
       "</style>\n",
       "<table border=\"1\" class=\"dataframe\">\n",
       "  <thead>\n",
       "    <tr style=\"text-align: right;\">\n",
       "      <th></th>\n",
       "      <th>Name</th>\n",
       "      <th>Platform</th>\n",
       "      <th>Year_of_Release</th>\n",
       "      <th>Genre</th>\n",
       "      <th>NA_sales</th>\n",
       "      <th>EU_sales</th>\n",
       "      <th>JP_sales</th>\n",
       "      <th>Other_sales</th>\n",
       "      <th>Critic_Score</th>\n",
       "      <th>User_Score</th>\n",
       "      <th>Rating</th>\n",
       "    </tr>\n",
       "  </thead>\n",
       "  <tbody>\n",
       "    <tr>\n",
       "      <td>0</td>\n",
       "      <td>Wii Sports</td>\n",
       "      <td>Wii</td>\n",
       "      <td>2006.0</td>\n",
       "      <td>Sports</td>\n",
       "      <td>41.36</td>\n",
       "      <td>28.96</td>\n",
       "      <td>3.77</td>\n",
       "      <td>8.45</td>\n",
       "      <td>76.0</td>\n",
       "      <td>8</td>\n",
       "      <td>E</td>\n",
       "    </tr>\n",
       "    <tr>\n",
       "      <td>1</td>\n",
       "      <td>Super Mario Bros.</td>\n",
       "      <td>NES</td>\n",
       "      <td>1985.0</td>\n",
       "      <td>Platform</td>\n",
       "      <td>29.08</td>\n",
       "      <td>3.58</td>\n",
       "      <td>6.81</td>\n",
       "      <td>0.77</td>\n",
       "      <td>NaN</td>\n",
       "      <td>NaN</td>\n",
       "      <td>NaN</td>\n",
       "    </tr>\n",
       "    <tr>\n",
       "      <td>2</td>\n",
       "      <td>Mario Kart Wii</td>\n",
       "      <td>Wii</td>\n",
       "      <td>2008.0</td>\n",
       "      <td>Racing</td>\n",
       "      <td>15.68</td>\n",
       "      <td>12.76</td>\n",
       "      <td>3.79</td>\n",
       "      <td>3.29</td>\n",
       "      <td>82.0</td>\n",
       "      <td>8.3</td>\n",
       "      <td>E</td>\n",
       "    </tr>\n",
       "    <tr>\n",
       "      <td>3</td>\n",
       "      <td>Wii Sports Resort</td>\n",
       "      <td>Wii</td>\n",
       "      <td>2009.0</td>\n",
       "      <td>Sports</td>\n",
       "      <td>15.61</td>\n",
       "      <td>10.93</td>\n",
       "      <td>3.28</td>\n",
       "      <td>2.95</td>\n",
       "      <td>80.0</td>\n",
       "      <td>8</td>\n",
       "      <td>E</td>\n",
       "    </tr>\n",
       "    <tr>\n",
       "      <td>4</td>\n",
       "      <td>Pokemon Red/Pokemon Blue</td>\n",
       "      <td>GB</td>\n",
       "      <td>1996.0</td>\n",
       "      <td>Role-Playing</td>\n",
       "      <td>11.27</td>\n",
       "      <td>8.89</td>\n",
       "      <td>10.22</td>\n",
       "      <td>1.00</td>\n",
       "      <td>NaN</td>\n",
       "      <td>NaN</td>\n",
       "      <td>NaN</td>\n",
       "    </tr>\n",
       "    <tr>\n",
       "      <td>5</td>\n",
       "      <td>Tetris</td>\n",
       "      <td>GB</td>\n",
       "      <td>1989.0</td>\n",
       "      <td>Puzzle</td>\n",
       "      <td>23.20</td>\n",
       "      <td>2.26</td>\n",
       "      <td>4.22</td>\n",
       "      <td>0.58</td>\n",
       "      <td>NaN</td>\n",
       "      <td>NaN</td>\n",
       "      <td>NaN</td>\n",
       "    </tr>\n",
       "    <tr>\n",
       "      <td>6</td>\n",
       "      <td>New Super Mario Bros.</td>\n",
       "      <td>DS</td>\n",
       "      <td>2006.0</td>\n",
       "      <td>Platform</td>\n",
       "      <td>11.28</td>\n",
       "      <td>9.14</td>\n",
       "      <td>6.50</td>\n",
       "      <td>2.88</td>\n",
       "      <td>89.0</td>\n",
       "      <td>8.5</td>\n",
       "      <td>E</td>\n",
       "    </tr>\n",
       "    <tr>\n",
       "      <td>7</td>\n",
       "      <td>Wii Play</td>\n",
       "      <td>Wii</td>\n",
       "      <td>2006.0</td>\n",
       "      <td>Misc</td>\n",
       "      <td>13.96</td>\n",
       "      <td>9.18</td>\n",
       "      <td>2.93</td>\n",
       "      <td>2.84</td>\n",
       "      <td>58.0</td>\n",
       "      <td>6.6</td>\n",
       "      <td>E</td>\n",
       "    </tr>\n",
       "    <tr>\n",
       "      <td>8</td>\n",
       "      <td>New Super Mario Bros. Wii</td>\n",
       "      <td>Wii</td>\n",
       "      <td>2009.0</td>\n",
       "      <td>Platform</td>\n",
       "      <td>14.44</td>\n",
       "      <td>6.94</td>\n",
       "      <td>4.70</td>\n",
       "      <td>2.24</td>\n",
       "      <td>87.0</td>\n",
       "      <td>8.4</td>\n",
       "      <td>E</td>\n",
       "    </tr>\n",
       "    <tr>\n",
       "      <td>9</td>\n",
       "      <td>Duck Hunt</td>\n",
       "      <td>NES</td>\n",
       "      <td>1984.0</td>\n",
       "      <td>Shooter</td>\n",
       "      <td>26.93</td>\n",
       "      <td>0.63</td>\n",
       "      <td>0.28</td>\n",
       "      <td>0.47</td>\n",
       "      <td>NaN</td>\n",
       "      <td>NaN</td>\n",
       "      <td>NaN</td>\n",
       "    </tr>\n",
       "  </tbody>\n",
       "</table>\n",
       "</div>"
      ],
      "text/plain": [
       "                        Name Platform  Year_of_Release         Genre  \\\n",
       "0                 Wii Sports      Wii           2006.0        Sports   \n",
       "1          Super Mario Bros.      NES           1985.0      Platform   \n",
       "2             Mario Kart Wii      Wii           2008.0        Racing   \n",
       "3          Wii Sports Resort      Wii           2009.0        Sports   \n",
       "4   Pokemon Red/Pokemon Blue       GB           1996.0  Role-Playing   \n",
       "5                     Tetris       GB           1989.0        Puzzle   \n",
       "6      New Super Mario Bros.       DS           2006.0      Platform   \n",
       "7                   Wii Play      Wii           2006.0          Misc   \n",
       "8  New Super Mario Bros. Wii      Wii           2009.0      Platform   \n",
       "9                  Duck Hunt      NES           1984.0       Shooter   \n",
       "\n",
       "   NA_sales  EU_sales  JP_sales  Other_sales  Critic_Score User_Score Rating  \n",
       "0     41.36     28.96      3.77         8.45          76.0          8      E  \n",
       "1     29.08      3.58      6.81         0.77           NaN        NaN    NaN  \n",
       "2     15.68     12.76      3.79         3.29          82.0        8.3      E  \n",
       "3     15.61     10.93      3.28         2.95          80.0          8      E  \n",
       "4     11.27      8.89     10.22         1.00           NaN        NaN    NaN  \n",
       "5     23.20      2.26      4.22         0.58           NaN        NaN    NaN  \n",
       "6     11.28      9.14      6.50         2.88          89.0        8.5      E  \n",
       "7     13.96      9.18      2.93         2.84          58.0        6.6      E  \n",
       "8     14.44      6.94      4.70         2.24          87.0        8.4      E  \n",
       "9     26.93      0.63      0.28         0.47           NaN        NaN    NaN  "
      ]
     },
     "execution_count": 2,
     "metadata": {},
     "output_type": "execute_result"
    }
   ],
   "source": [
    "data = pd.read_csv('/datasets/games.csv')\n",
    "data.head(10)"
   ]
  },
  {
   "cell_type": "code",
   "execution_count": 3,
   "metadata": {
    "scrolled": true
   },
   "outputs": [
    {
     "name": "stdout",
     "output_type": "stream",
     "text": [
      "<class 'pandas.core.frame.DataFrame'>\n",
      "RangeIndex: 16715 entries, 0 to 16714\n",
      "Data columns (total 11 columns):\n",
      "Name               16713 non-null object\n",
      "Platform           16715 non-null object\n",
      "Year_of_Release    16446 non-null float64\n",
      "Genre              16713 non-null object\n",
      "NA_sales           16715 non-null float64\n",
      "EU_sales           16715 non-null float64\n",
      "JP_sales           16715 non-null float64\n",
      "Other_sales        16715 non-null float64\n",
      "Critic_Score       8137 non-null float64\n",
      "User_Score         10014 non-null object\n",
      "Rating             9949 non-null object\n",
      "dtypes: float64(6), object(5)\n",
      "memory usage: 1.4+ MB\n"
     ]
    }
   ],
   "source": [
    "data.info()"
   ]
  },
  {
   "cell_type": "code",
   "execution_count": 4,
   "metadata": {
    "scrolled": false
   },
   "outputs": [
    {
     "data": {
      "text/plain": [
       "Need for Speed: Most Wanted                                         12\n",
       "LEGO Marvel Super Heroes                                             9\n",
       "FIFA 14                                                              9\n",
       "Ratatouille                                                          9\n",
       "Madden NFL 07                                                        9\n",
       "                                                                    ..\n",
       "Deal or No Deal: The Banker is Back!                                 1\n",
       "Famicom Mini: Mario Bros.                                            1\n",
       "Overlord: Minions                                                    1\n",
       "Shirogane no Soleil: Contract to the Future - Mirai e no Keiyaku     1\n",
       "Fancy Nancy: Tea Party Time!                                         1\n",
       "Name: Name, Length: 11559, dtype: int64"
      ]
     },
     "metadata": {},
     "output_type": "display_data"
    },
    {
     "data": {
      "text/plain": [
       "PS2     2161\n",
       "DS      2151\n",
       "PS3     1331\n",
       "Wii     1320\n",
       "X360    1262\n",
       "PSP     1209\n",
       "PS      1197\n",
       "PC       974\n",
       "XB       824\n",
       "GBA      822\n",
       "GC       556\n",
       "3DS      520\n",
       "PSV      430\n",
       "PS4      392\n",
       "N64      319\n",
       "XOne     247\n",
       "SNES     239\n",
       "SAT      173\n",
       "WiiU     147\n",
       "2600     133\n",
       "GB        98\n",
       "NES       98\n",
       "DC        52\n",
       "GEN       29\n",
       "NG        12\n",
       "SCD        6\n",
       "WS         6\n",
       "3DO        3\n",
       "TG16       2\n",
       "PCFX       1\n",
       "GG         1\n",
       "Name: Platform, dtype: int64"
      ]
     },
     "metadata": {},
     "output_type": "display_data"
    },
    {
     "data": {
      "text/plain": [
       "count    16446.000000\n",
       "mean      2006.484616\n",
       "std          5.877050\n",
       "min       1980.000000\n",
       "25%       2003.000000\n",
       "50%       2007.000000\n",
       "75%       2010.000000\n",
       "max       2016.000000\n",
       "Name: Year_of_Release, dtype: float64"
      ]
     },
     "metadata": {},
     "output_type": "display_data"
    },
    {
     "data": {
      "text/plain": [
       "Action          3369\n",
       "Sports          2348\n",
       "Misc            1750\n",
       "Role-Playing    1498\n",
       "Shooter         1323\n",
       "Adventure       1303\n",
       "Racing          1249\n",
       "Platform         888\n",
       "Simulation       873\n",
       "Fighting         849\n",
       "Strategy         683\n",
       "Puzzle           580\n",
       "Name: Genre, dtype: int64"
      ]
     },
     "metadata": {},
     "output_type": "display_data"
    },
    {
     "data": {
      "text/plain": [
       "count    16715.000000\n",
       "mean         0.263377\n",
       "std          0.813604\n",
       "min          0.000000\n",
       "25%          0.000000\n",
       "50%          0.080000\n",
       "75%          0.240000\n",
       "max         41.360000\n",
       "Name: NA_sales, dtype: float64"
      ]
     },
     "metadata": {},
     "output_type": "display_data"
    },
    {
     "data": {
      "text/plain": [
       "count    16715.000000\n",
       "mean         0.145060\n",
       "std          0.503339\n",
       "min          0.000000\n",
       "25%          0.000000\n",
       "50%          0.020000\n",
       "75%          0.110000\n",
       "max         28.960000\n",
       "Name: EU_sales, dtype: float64"
      ]
     },
     "metadata": {},
     "output_type": "display_data"
    },
    {
     "data": {
      "text/plain": [
       "count    16715.000000\n",
       "mean         0.077617\n",
       "std          0.308853\n",
       "min          0.000000\n",
       "25%          0.000000\n",
       "50%          0.000000\n",
       "75%          0.040000\n",
       "max         10.220000\n",
       "Name: JP_sales, dtype: float64"
      ]
     },
     "metadata": {},
     "output_type": "display_data"
    },
    {
     "data": {
      "text/plain": [
       "count    16715.000000\n",
       "mean         0.047342\n",
       "std          0.186731\n",
       "min          0.000000\n",
       "25%          0.000000\n",
       "50%          0.010000\n",
       "75%          0.030000\n",
       "max         10.570000\n",
       "Name: Other_sales, dtype: float64"
      ]
     },
     "metadata": {},
     "output_type": "display_data"
    },
    {
     "data": {
      "text/plain": [
       "count    8137.000000\n",
       "mean       68.967679\n",
       "std        13.938165\n",
       "min        13.000000\n",
       "25%        60.000000\n",
       "50%        71.000000\n",
       "75%        79.000000\n",
       "max        98.000000\n",
       "Name: Critic_Score, dtype: float64"
      ]
     },
     "metadata": {},
     "output_type": "display_data"
    },
    {
     "data": {
      "text/plain": [
       "tbd    2424\n",
       "7.8     324\n",
       "8       290\n",
       "8.2     282\n",
       "8.3     254\n",
       "       ... \n",
       "0.7       2\n",
       "0.3       2\n",
       "1         2\n",
       "0         1\n",
       "9.7       1\n",
       "Name: User_Score, Length: 96, dtype: int64"
      ]
     },
     "metadata": {},
     "output_type": "display_data"
    },
    {
     "data": {
      "text/plain": [
       "E       3990\n",
       "T       2961\n",
       "M       1563\n",
       "E10+    1420\n",
       "EC         8\n",
       "RP         3\n",
       "K-A        3\n",
       "AO         1\n",
       "Name: Rating, dtype: int64"
      ]
     },
     "metadata": {},
     "output_type": "display_data"
    }
   ],
   "source": [
    "for column in data.columns:\n",
    "    if data[column].dtype == 'object':\n",
    "        display(data[column].value_counts())\n",
    "    else:\n",
    "        display(data[column].describe())"
   ]
  },
  {
   "cell_type": "markdown",
   "metadata": {},
   "source": [
    "## Подготовка данных \n",
    "\n",
    "### Переименование столбцов таблицы\n",
    "\n",
    "Приведем все столбцы к нижнему регистру"
   ]
  },
  {
   "cell_type": "code",
   "execution_count": 5,
   "metadata": {},
   "outputs": [
    {
     "data": {
      "text/html": [
       "<div>\n",
       "<style scoped>\n",
       "    .dataframe tbody tr th:only-of-type {\n",
       "        vertical-align: middle;\n",
       "    }\n",
       "\n",
       "    .dataframe tbody tr th {\n",
       "        vertical-align: top;\n",
       "    }\n",
       "\n",
       "    .dataframe thead th {\n",
       "        text-align: right;\n",
       "    }\n",
       "</style>\n",
       "<table border=\"1\" class=\"dataframe\">\n",
       "  <thead>\n",
       "    <tr style=\"text-align: right;\">\n",
       "      <th></th>\n",
       "      <th>name</th>\n",
       "      <th>platform</th>\n",
       "      <th>year_of_release</th>\n",
       "      <th>genre</th>\n",
       "      <th>na_sales</th>\n",
       "      <th>eu_sales</th>\n",
       "      <th>jp_sales</th>\n",
       "      <th>other_sales</th>\n",
       "      <th>critic_score</th>\n",
       "      <th>user_score</th>\n",
       "      <th>rating</th>\n",
       "    </tr>\n",
       "  </thead>\n",
       "  <tbody>\n",
       "    <tr>\n",
       "      <td>16705</td>\n",
       "      <td>15 Days</td>\n",
       "      <td>PC</td>\n",
       "      <td>2009.0</td>\n",
       "      <td>Adventure</td>\n",
       "      <td>0.00</td>\n",
       "      <td>0.01</td>\n",
       "      <td>0.00</td>\n",
       "      <td>0.0</td>\n",
       "      <td>63.0</td>\n",
       "      <td>5.8</td>\n",
       "      <td>NaN</td>\n",
       "    </tr>\n",
       "    <tr>\n",
       "      <td>16706</td>\n",
       "      <td>Men in Black II: Alien Escape</td>\n",
       "      <td>GC</td>\n",
       "      <td>2003.0</td>\n",
       "      <td>Shooter</td>\n",
       "      <td>0.01</td>\n",
       "      <td>0.00</td>\n",
       "      <td>0.00</td>\n",
       "      <td>0.0</td>\n",
       "      <td>NaN</td>\n",
       "      <td>tbd</td>\n",
       "      <td>T</td>\n",
       "    </tr>\n",
       "    <tr>\n",
       "      <td>16707</td>\n",
       "      <td>Aiyoku no Eustia</td>\n",
       "      <td>PSV</td>\n",
       "      <td>2014.0</td>\n",
       "      <td>Misc</td>\n",
       "      <td>0.00</td>\n",
       "      <td>0.00</td>\n",
       "      <td>0.01</td>\n",
       "      <td>0.0</td>\n",
       "      <td>NaN</td>\n",
       "      <td>NaN</td>\n",
       "      <td>NaN</td>\n",
       "    </tr>\n",
       "    <tr>\n",
       "      <td>16708</td>\n",
       "      <td>Woody Woodpecker in Crazy Castle 5</td>\n",
       "      <td>GBA</td>\n",
       "      <td>2002.0</td>\n",
       "      <td>Platform</td>\n",
       "      <td>0.01</td>\n",
       "      <td>0.00</td>\n",
       "      <td>0.00</td>\n",
       "      <td>0.0</td>\n",
       "      <td>NaN</td>\n",
       "      <td>NaN</td>\n",
       "      <td>NaN</td>\n",
       "    </tr>\n",
       "    <tr>\n",
       "      <td>16709</td>\n",
       "      <td>SCORE International Baja 1000: The Official Game</td>\n",
       "      <td>PS2</td>\n",
       "      <td>2008.0</td>\n",
       "      <td>Racing</td>\n",
       "      <td>0.00</td>\n",
       "      <td>0.00</td>\n",
       "      <td>0.00</td>\n",
       "      <td>0.0</td>\n",
       "      <td>NaN</td>\n",
       "      <td>NaN</td>\n",
       "      <td>NaN</td>\n",
       "    </tr>\n",
       "    <tr>\n",
       "      <td>16710</td>\n",
       "      <td>Samurai Warriors: Sanada Maru</td>\n",
       "      <td>PS3</td>\n",
       "      <td>2016.0</td>\n",
       "      <td>Action</td>\n",
       "      <td>0.00</td>\n",
       "      <td>0.00</td>\n",
       "      <td>0.01</td>\n",
       "      <td>0.0</td>\n",
       "      <td>NaN</td>\n",
       "      <td>NaN</td>\n",
       "      <td>NaN</td>\n",
       "    </tr>\n",
       "    <tr>\n",
       "      <td>16711</td>\n",
       "      <td>LMA Manager 2007</td>\n",
       "      <td>X360</td>\n",
       "      <td>2006.0</td>\n",
       "      <td>Sports</td>\n",
       "      <td>0.00</td>\n",
       "      <td>0.01</td>\n",
       "      <td>0.00</td>\n",
       "      <td>0.0</td>\n",
       "      <td>NaN</td>\n",
       "      <td>NaN</td>\n",
       "      <td>NaN</td>\n",
       "    </tr>\n",
       "    <tr>\n",
       "      <td>16712</td>\n",
       "      <td>Haitaka no Psychedelica</td>\n",
       "      <td>PSV</td>\n",
       "      <td>2016.0</td>\n",
       "      <td>Adventure</td>\n",
       "      <td>0.00</td>\n",
       "      <td>0.00</td>\n",
       "      <td>0.01</td>\n",
       "      <td>0.0</td>\n",
       "      <td>NaN</td>\n",
       "      <td>NaN</td>\n",
       "      <td>NaN</td>\n",
       "    </tr>\n",
       "    <tr>\n",
       "      <td>16713</td>\n",
       "      <td>Spirits &amp; Spells</td>\n",
       "      <td>GBA</td>\n",
       "      <td>2003.0</td>\n",
       "      <td>Platform</td>\n",
       "      <td>0.01</td>\n",
       "      <td>0.00</td>\n",
       "      <td>0.00</td>\n",
       "      <td>0.0</td>\n",
       "      <td>NaN</td>\n",
       "      <td>NaN</td>\n",
       "      <td>NaN</td>\n",
       "    </tr>\n",
       "    <tr>\n",
       "      <td>16714</td>\n",
       "      <td>Winning Post 8 2016</td>\n",
       "      <td>PSV</td>\n",
       "      <td>2016.0</td>\n",
       "      <td>Simulation</td>\n",
       "      <td>0.00</td>\n",
       "      <td>0.00</td>\n",
       "      <td>0.01</td>\n",
       "      <td>0.0</td>\n",
       "      <td>NaN</td>\n",
       "      <td>NaN</td>\n",
       "      <td>NaN</td>\n",
       "    </tr>\n",
       "  </tbody>\n",
       "</table>\n",
       "</div>"
      ],
      "text/plain": [
       "                                                   name platform  \\\n",
       "16705                                           15 Days       PC   \n",
       "16706                     Men in Black II: Alien Escape       GC   \n",
       "16707                                  Aiyoku no Eustia      PSV   \n",
       "16708                Woody Woodpecker in Crazy Castle 5      GBA   \n",
       "16709  SCORE International Baja 1000: The Official Game      PS2   \n",
       "16710                     Samurai Warriors: Sanada Maru      PS3   \n",
       "16711                                  LMA Manager 2007     X360   \n",
       "16712                           Haitaka no Psychedelica      PSV   \n",
       "16713                                  Spirits & Spells      GBA   \n",
       "16714                               Winning Post 8 2016      PSV   \n",
       "\n",
       "       year_of_release       genre  na_sales  eu_sales  jp_sales  other_sales  \\\n",
       "16705           2009.0   Adventure      0.00      0.01      0.00          0.0   \n",
       "16706           2003.0     Shooter      0.01      0.00      0.00          0.0   \n",
       "16707           2014.0        Misc      0.00      0.00      0.01          0.0   \n",
       "16708           2002.0    Platform      0.01      0.00      0.00          0.0   \n",
       "16709           2008.0      Racing      0.00      0.00      0.00          0.0   \n",
       "16710           2016.0      Action      0.00      0.00      0.01          0.0   \n",
       "16711           2006.0      Sports      0.00      0.01      0.00          0.0   \n",
       "16712           2016.0   Adventure      0.00      0.00      0.01          0.0   \n",
       "16713           2003.0    Platform      0.01      0.00      0.00          0.0   \n",
       "16714           2016.0  Simulation      0.00      0.00      0.01          0.0   \n",
       "\n",
       "       critic_score user_score rating  \n",
       "16705          63.0        5.8    NaN  \n",
       "16706           NaN        tbd      T  \n",
       "16707           NaN        NaN    NaN  \n",
       "16708           NaN        NaN    NaN  \n",
       "16709           NaN        NaN    NaN  \n",
       "16710           NaN        NaN    NaN  \n",
       "16711           NaN        NaN    NaN  \n",
       "16712           NaN        NaN    NaN  \n",
       "16713           NaN        NaN    NaN  \n",
       "16714           NaN        NaN    NaN  "
      ]
     },
     "execution_count": 5,
     "metadata": {},
     "output_type": "execute_result"
    }
   ],
   "source": [
    "data.columns = data.columns.str.lower()\n",
    "data.tail(10)"
   ]
  },
  {
   "cell_type": "markdown",
   "metadata": {},
   "source": [
    "### Преобразование данных\n",
    "\n",
    "Преобразуем данные в столбце \"year_of_release\" из вещественных в целочисленные, т.к. год выпуска не может быть дробным. \n",
    "Выбираем тип Int64, т.к. в стобце присутствуют пропуски"
   ]
  },
  {
   "cell_type": "code",
   "execution_count": 6,
   "metadata": {},
   "outputs": [],
   "source": [
    "data['year_of_release'] = data['year_of_release'].round(0).astype('Int64')"
   ]
  },
  {
   "cell_type": "markdown",
   "metadata": {},
   "source": [
    "Преобразуем данные в столбце \"user_score\" в вещественные. В столбце встречаются значения столбца 'tbd'  - аббревиатура To be determined, т.е. \"будет определено\", логичным будет замена его на Nan, поэтому используем параметр errors='coerce':"
   ]
  },
  {
   "cell_type": "code",
   "execution_count": 7,
   "metadata": {},
   "outputs": [
    {
     "data": {
      "text/html": [
       "<div>\n",
       "<style scoped>\n",
       "    .dataframe tbody tr th:only-of-type {\n",
       "        vertical-align: middle;\n",
       "    }\n",
       "\n",
       "    .dataframe tbody tr th {\n",
       "        vertical-align: top;\n",
       "    }\n",
       "\n",
       "    .dataframe thead th {\n",
       "        text-align: right;\n",
       "    }\n",
       "</style>\n",
       "<table border=\"1\" class=\"dataframe\">\n",
       "  <thead>\n",
       "    <tr style=\"text-align: right;\">\n",
       "      <th></th>\n",
       "      <th>name</th>\n",
       "      <th>platform</th>\n",
       "      <th>year_of_release</th>\n",
       "      <th>genre</th>\n",
       "      <th>na_sales</th>\n",
       "      <th>eu_sales</th>\n",
       "      <th>jp_sales</th>\n",
       "      <th>other_sales</th>\n",
       "      <th>critic_score</th>\n",
       "      <th>user_score</th>\n",
       "      <th>rating</th>\n",
       "    </tr>\n",
       "  </thead>\n",
       "  <tbody>\n",
       "    <tr>\n",
       "      <td>16705</td>\n",
       "      <td>15 Days</td>\n",
       "      <td>PC</td>\n",
       "      <td>2009</td>\n",
       "      <td>Adventure</td>\n",
       "      <td>0.00</td>\n",
       "      <td>0.01</td>\n",
       "      <td>0.00</td>\n",
       "      <td>0.0</td>\n",
       "      <td>63.0</td>\n",
       "      <td>5.8</td>\n",
       "      <td>NaN</td>\n",
       "    </tr>\n",
       "    <tr>\n",
       "      <td>16706</td>\n",
       "      <td>Men in Black II: Alien Escape</td>\n",
       "      <td>GC</td>\n",
       "      <td>2003</td>\n",
       "      <td>Shooter</td>\n",
       "      <td>0.01</td>\n",
       "      <td>0.00</td>\n",
       "      <td>0.00</td>\n",
       "      <td>0.0</td>\n",
       "      <td>NaN</td>\n",
       "      <td>NaN</td>\n",
       "      <td>T</td>\n",
       "    </tr>\n",
       "    <tr>\n",
       "      <td>16707</td>\n",
       "      <td>Aiyoku no Eustia</td>\n",
       "      <td>PSV</td>\n",
       "      <td>2014</td>\n",
       "      <td>Misc</td>\n",
       "      <td>0.00</td>\n",
       "      <td>0.00</td>\n",
       "      <td>0.01</td>\n",
       "      <td>0.0</td>\n",
       "      <td>NaN</td>\n",
       "      <td>NaN</td>\n",
       "      <td>NaN</td>\n",
       "    </tr>\n",
       "    <tr>\n",
       "      <td>16708</td>\n",
       "      <td>Woody Woodpecker in Crazy Castle 5</td>\n",
       "      <td>GBA</td>\n",
       "      <td>2002</td>\n",
       "      <td>Platform</td>\n",
       "      <td>0.01</td>\n",
       "      <td>0.00</td>\n",
       "      <td>0.00</td>\n",
       "      <td>0.0</td>\n",
       "      <td>NaN</td>\n",
       "      <td>NaN</td>\n",
       "      <td>NaN</td>\n",
       "    </tr>\n",
       "    <tr>\n",
       "      <td>16709</td>\n",
       "      <td>SCORE International Baja 1000: The Official Game</td>\n",
       "      <td>PS2</td>\n",
       "      <td>2008</td>\n",
       "      <td>Racing</td>\n",
       "      <td>0.00</td>\n",
       "      <td>0.00</td>\n",
       "      <td>0.00</td>\n",
       "      <td>0.0</td>\n",
       "      <td>NaN</td>\n",
       "      <td>NaN</td>\n",
       "      <td>NaN</td>\n",
       "    </tr>\n",
       "    <tr>\n",
       "      <td>16710</td>\n",
       "      <td>Samurai Warriors: Sanada Maru</td>\n",
       "      <td>PS3</td>\n",
       "      <td>2016</td>\n",
       "      <td>Action</td>\n",
       "      <td>0.00</td>\n",
       "      <td>0.00</td>\n",
       "      <td>0.01</td>\n",
       "      <td>0.0</td>\n",
       "      <td>NaN</td>\n",
       "      <td>NaN</td>\n",
       "      <td>NaN</td>\n",
       "    </tr>\n",
       "    <tr>\n",
       "      <td>16711</td>\n",
       "      <td>LMA Manager 2007</td>\n",
       "      <td>X360</td>\n",
       "      <td>2006</td>\n",
       "      <td>Sports</td>\n",
       "      <td>0.00</td>\n",
       "      <td>0.01</td>\n",
       "      <td>0.00</td>\n",
       "      <td>0.0</td>\n",
       "      <td>NaN</td>\n",
       "      <td>NaN</td>\n",
       "      <td>NaN</td>\n",
       "    </tr>\n",
       "    <tr>\n",
       "      <td>16712</td>\n",
       "      <td>Haitaka no Psychedelica</td>\n",
       "      <td>PSV</td>\n",
       "      <td>2016</td>\n",
       "      <td>Adventure</td>\n",
       "      <td>0.00</td>\n",
       "      <td>0.00</td>\n",
       "      <td>0.01</td>\n",
       "      <td>0.0</td>\n",
       "      <td>NaN</td>\n",
       "      <td>NaN</td>\n",
       "      <td>NaN</td>\n",
       "    </tr>\n",
       "    <tr>\n",
       "      <td>16713</td>\n",
       "      <td>Spirits &amp; Spells</td>\n",
       "      <td>GBA</td>\n",
       "      <td>2003</td>\n",
       "      <td>Platform</td>\n",
       "      <td>0.01</td>\n",
       "      <td>0.00</td>\n",
       "      <td>0.00</td>\n",
       "      <td>0.0</td>\n",
       "      <td>NaN</td>\n",
       "      <td>NaN</td>\n",
       "      <td>NaN</td>\n",
       "    </tr>\n",
       "    <tr>\n",
       "      <td>16714</td>\n",
       "      <td>Winning Post 8 2016</td>\n",
       "      <td>PSV</td>\n",
       "      <td>2016</td>\n",
       "      <td>Simulation</td>\n",
       "      <td>0.00</td>\n",
       "      <td>0.00</td>\n",
       "      <td>0.01</td>\n",
       "      <td>0.0</td>\n",
       "      <td>NaN</td>\n",
       "      <td>NaN</td>\n",
       "      <td>NaN</td>\n",
       "    </tr>\n",
       "  </tbody>\n",
       "</table>\n",
       "</div>"
      ],
      "text/plain": [
       "                                                   name platform  \\\n",
       "16705                                           15 Days       PC   \n",
       "16706                     Men in Black II: Alien Escape       GC   \n",
       "16707                                  Aiyoku no Eustia      PSV   \n",
       "16708                Woody Woodpecker in Crazy Castle 5      GBA   \n",
       "16709  SCORE International Baja 1000: The Official Game      PS2   \n",
       "16710                     Samurai Warriors: Sanada Maru      PS3   \n",
       "16711                                  LMA Manager 2007     X360   \n",
       "16712                           Haitaka no Psychedelica      PSV   \n",
       "16713                                  Spirits & Spells      GBA   \n",
       "16714                               Winning Post 8 2016      PSV   \n",
       "\n",
       "       year_of_release       genre  na_sales  eu_sales  jp_sales  other_sales  \\\n",
       "16705             2009   Adventure      0.00      0.01      0.00          0.0   \n",
       "16706             2003     Shooter      0.01      0.00      0.00          0.0   \n",
       "16707             2014        Misc      0.00      0.00      0.01          0.0   \n",
       "16708             2002    Platform      0.01      0.00      0.00          0.0   \n",
       "16709             2008      Racing      0.00      0.00      0.00          0.0   \n",
       "16710             2016      Action      0.00      0.00      0.01          0.0   \n",
       "16711             2006      Sports      0.00      0.01      0.00          0.0   \n",
       "16712             2016   Adventure      0.00      0.00      0.01          0.0   \n",
       "16713             2003    Platform      0.01      0.00      0.00          0.0   \n",
       "16714             2016  Simulation      0.00      0.00      0.01          0.0   \n",
       "\n",
       "       critic_score  user_score rating  \n",
       "16705          63.0         5.8    NaN  \n",
       "16706           NaN         NaN      T  \n",
       "16707           NaN         NaN    NaN  \n",
       "16708           NaN         NaN    NaN  \n",
       "16709           NaN         NaN    NaN  \n",
       "16710           NaN         NaN    NaN  \n",
       "16711           NaN         NaN    NaN  \n",
       "16712           NaN         NaN    NaN  \n",
       "16713           NaN         NaN    NaN  \n",
       "16714           NaN         NaN    NaN  "
      ]
     },
     "execution_count": 7,
     "metadata": {},
     "output_type": "execute_result"
    }
   ],
   "source": [
    "data['user_score'] = pd.to_numeric(data['user_score'], errors='coerce')\n",
    "data.tail(10)"
   ]
  },
  {
   "cell_type": "markdown",
   "metadata": {},
   "source": [
    "### Обработка пропусков \n",
    "\n",
    "Подсчитаем общее количество пропусков в таблице по столбцам:"
   ]
  },
  {
   "cell_type": "code",
   "execution_count": 8,
   "metadata": {
    "scrolled": false
   },
   "outputs": [
    {
     "data": {
      "text/plain": [
       "name                  2\n",
       "platform              0\n",
       "year_of_release     269\n",
       "genre                 2\n",
       "na_sales              0\n",
       "eu_sales              0\n",
       "jp_sales              0\n",
       "other_sales           0\n",
       "critic_score       8578\n",
       "user_score         9125\n",
       "rating             6766\n",
       "dtype: int64"
      ]
     },
     "execution_count": 8,
     "metadata": {},
     "output_type": "execute_result"
    }
   ],
   "source": [
    "data.isna().sum()"
   ]
  },
  {
   "cell_type": "markdown",
   "metadata": {},
   "source": [
    "Удалим строки с пропущенным жанром и названием:"
   ]
  },
  {
   "cell_type": "code",
   "execution_count": 9,
   "metadata": {},
   "outputs": [],
   "source": [
    "data = data.dropna(subset=['name','genre'])"
   ]
  },
  {
   "cell_type": "markdown",
   "metadata": {},
   "source": [
    "Пропущенные значения года выпуска заменим медианным годом жизни платформы, для которой выпущена игра."
   ]
  },
  {
   "cell_type": "code",
   "execution_count": 10,
   "metadata": {},
   "outputs": [
    {
     "data": {
      "text/plain": [
       "name                  0\n",
       "platform              0\n",
       "year_of_release       0\n",
       "genre                 0\n",
       "na_sales              0\n",
       "eu_sales              0\n",
       "jp_sales              0\n",
       "other_sales           0\n",
       "critic_score       8576\n",
       "user_score         9123\n",
       "rating             6764\n",
       "dtype: int64"
      ]
     },
     "execution_count": 10,
     "metadata": {},
     "output_type": "execute_result"
    }
   ],
   "source": [
    "data['year_of_release'] = data['year_of_release'].fillna(data.groupby('platform')['year_of_release'].transform('median'))\n",
    "data.isna().sum()"
   ]
  },
  {
   "cell_type": "markdown",
   "metadata": {},
   "source": [
    "В столбцах \"name\", \"year_of_release\", \"genre\" присутвуют пропуски, которые связаны скорее всего с некорректным сбором и формированием данных, количество пропусков незначительное.\n",
    "Большое количество пропусков в столбцах \"critic_score\", \"user_score\", \"rating\" обусловллено вероятнее всего тем, что критики и пользователи не оценивали игры, а рейтнг для пропущенных игр не устанавливался, по каким-либо причинам. Корректно восстановить пропущенные значения не представляется возможным.\n",
    "\n",
    "### Cуммарные продажи\n",
    "\n",
    "Рассчитаем суммарные продажи во всех регионах и результат внесем в отдельный столбец:"
   ]
  },
  {
   "cell_type": "code",
   "execution_count": 11,
   "metadata": {
    "scrolled": true
   },
   "outputs": [
    {
     "data": {
      "text/html": [
       "<div>\n",
       "<style scoped>\n",
       "    .dataframe tbody tr th:only-of-type {\n",
       "        vertical-align: middle;\n",
       "    }\n",
       "\n",
       "    .dataframe tbody tr th {\n",
       "        vertical-align: top;\n",
       "    }\n",
       "\n",
       "    .dataframe thead th {\n",
       "        text-align: right;\n",
       "    }\n",
       "</style>\n",
       "<table border=\"1\" class=\"dataframe\">\n",
       "  <thead>\n",
       "    <tr style=\"text-align: right;\">\n",
       "      <th></th>\n",
       "      <th>name</th>\n",
       "      <th>platform</th>\n",
       "      <th>year_of_release</th>\n",
       "      <th>genre</th>\n",
       "      <th>na_sales</th>\n",
       "      <th>eu_sales</th>\n",
       "      <th>jp_sales</th>\n",
       "      <th>other_sales</th>\n",
       "      <th>critic_score</th>\n",
       "      <th>user_score</th>\n",
       "      <th>rating</th>\n",
       "      <th>world_sales</th>\n",
       "    </tr>\n",
       "  </thead>\n",
       "  <tbody>\n",
       "    <tr>\n",
       "      <td>0</td>\n",
       "      <td>Wii Sports</td>\n",
       "      <td>Wii</td>\n",
       "      <td>2006</td>\n",
       "      <td>Sports</td>\n",
       "      <td>41.36</td>\n",
       "      <td>28.96</td>\n",
       "      <td>3.77</td>\n",
       "      <td>8.45</td>\n",
       "      <td>76.0</td>\n",
       "      <td>8.0</td>\n",
       "      <td>E</td>\n",
       "      <td>82.54</td>\n",
       "    </tr>\n",
       "    <tr>\n",
       "      <td>1</td>\n",
       "      <td>Super Mario Bros.</td>\n",
       "      <td>NES</td>\n",
       "      <td>1985</td>\n",
       "      <td>Platform</td>\n",
       "      <td>29.08</td>\n",
       "      <td>3.58</td>\n",
       "      <td>6.81</td>\n",
       "      <td>0.77</td>\n",
       "      <td>NaN</td>\n",
       "      <td>NaN</td>\n",
       "      <td>NaN</td>\n",
       "      <td>40.24</td>\n",
       "    </tr>\n",
       "    <tr>\n",
       "      <td>2</td>\n",
       "      <td>Mario Kart Wii</td>\n",
       "      <td>Wii</td>\n",
       "      <td>2008</td>\n",
       "      <td>Racing</td>\n",
       "      <td>15.68</td>\n",
       "      <td>12.76</td>\n",
       "      <td>3.79</td>\n",
       "      <td>3.29</td>\n",
       "      <td>82.0</td>\n",
       "      <td>8.3</td>\n",
       "      <td>E</td>\n",
       "      <td>35.52</td>\n",
       "    </tr>\n",
       "    <tr>\n",
       "      <td>3</td>\n",
       "      <td>Wii Sports Resort</td>\n",
       "      <td>Wii</td>\n",
       "      <td>2009</td>\n",
       "      <td>Sports</td>\n",
       "      <td>15.61</td>\n",
       "      <td>10.93</td>\n",
       "      <td>3.28</td>\n",
       "      <td>2.95</td>\n",
       "      <td>80.0</td>\n",
       "      <td>8.0</td>\n",
       "      <td>E</td>\n",
       "      <td>32.77</td>\n",
       "    </tr>\n",
       "    <tr>\n",
       "      <td>4</td>\n",
       "      <td>Pokemon Red/Pokemon Blue</td>\n",
       "      <td>GB</td>\n",
       "      <td>1996</td>\n",
       "      <td>Role-Playing</td>\n",
       "      <td>11.27</td>\n",
       "      <td>8.89</td>\n",
       "      <td>10.22</td>\n",
       "      <td>1.00</td>\n",
       "      <td>NaN</td>\n",
       "      <td>NaN</td>\n",
       "      <td>NaN</td>\n",
       "      <td>31.38</td>\n",
       "    </tr>\n",
       "  </tbody>\n",
       "</table>\n",
       "</div>"
      ],
      "text/plain": [
       "                       name platform  year_of_release         genre  na_sales  \\\n",
       "0                Wii Sports      Wii             2006        Sports     41.36   \n",
       "1         Super Mario Bros.      NES             1985      Platform     29.08   \n",
       "2            Mario Kart Wii      Wii             2008        Racing     15.68   \n",
       "3         Wii Sports Resort      Wii             2009        Sports     15.61   \n",
       "4  Pokemon Red/Pokemon Blue       GB             1996  Role-Playing     11.27   \n",
       "\n",
       "   eu_sales  jp_sales  other_sales  critic_score  user_score rating  \\\n",
       "0     28.96      3.77         8.45          76.0         8.0      E   \n",
       "1      3.58      6.81         0.77           NaN         NaN    NaN   \n",
       "2     12.76      3.79         3.29          82.0         8.3      E   \n",
       "3     10.93      3.28         2.95          80.0         8.0      E   \n",
       "4      8.89     10.22         1.00           NaN         NaN    NaN   \n",
       "\n",
       "   world_sales  \n",
       "0        82.54  \n",
       "1        40.24  \n",
       "2        35.52  \n",
       "3        32.77  \n",
       "4        31.38  "
      ]
     },
     "execution_count": 11,
     "metadata": {},
     "output_type": "execute_result"
    }
   ],
   "source": [
    "data['world_sales'] = data.filter(like='sales').sum(axis=1)\n",
    "data.head()"
   ]
  },
  {
   "cell_type": "markdown",
   "metadata": {},
   "source": [
    "## Исследовательский анализ данных\n",
    "\n",
    "### Количество игр, выпущенных в разные годы."
   ]
  },
  {
   "cell_type": "code",
   "execution_count": 12,
   "metadata": {
    "scrolled": false
   },
   "outputs": [
    {
     "data": {
      "image/png": "[encoded data removed]",
      "text/plain": [
       "<Figure size 432x288 with 1 Axes>"
      ]
     },
     "metadata": {
      "needs_background": "light"
     },
     "output_type": "display_data"
    }
   ],
   "source": [
    "data['year_of_release'].hist(bins=100)\n",
    "plt.title('Number of games')\n",
    "plt.ylabel('Frequency')\n",
    "plt.xlabel('Year_of_release')\n",
    "plt.show()"
   ]
  },
  {
   "cell_type": "markdown",
   "metadata": {},
   "source": [
    "Прирост количества игр начинается с 1993 года, пиковые значения достигнуты в 2008-2009 годах\n",
    "\n",
    "### Динамика продаж по платформам. \n",
    "\n",
    "Построим диаграмму, на которой отражены продажи игр различных платформ в разрезе рассматриваемого периода времени:"
   ]
  },
  {
   "cell_type": "code",
   "execution_count": 13,
   "metadata": {
    "scrolled": false
   },
   "outputs": [
    {
     "data": {
      "image/png": "[encoded data removed]",
      "text/plain": [
       "<Figure size 1440x720 with 1 Axes>"
      ]
     },
     "metadata": {
      "needs_background": "light"
     },
     "output_type": "display_data"
    }
   ],
   "source": [
    "data.pivot_table(index='year_of_release', columns='platform', values='world_sales', aggfunc='sum').plot(figsize=(20,10),title='World sales of platforms')\n",
    "plt.ylabel('world_sales')\n",
    "plt.show()"
   ]
  },
  {
   "cell_type": "markdown",
   "metadata": {},
   "source": [
    "Продажи практически каждой платформы переживали стадии планомерного роста и последующего падения.\n",
    "Для определения самых продаваемых платформ, сгруппируем и отсортируем продажи по платформам"
   ]
  },
  {
   "cell_type": "code",
   "execution_count": 14,
   "metadata": {},
   "outputs": [
    {
     "data": {
      "text/plain": [
       "platform\n",
       "PS2     1255.77\n",
       "X360     971.42\n",
       "PS3      939.65\n",
       "Wii      907.51\n",
       "DS       806.12\n",
       "PS       730.86\n",
       "GBA      317.85\n",
       "PS4      314.14\n",
       "PSP      294.05\n",
       "PC       259.52\n",
       "3DS      259.00\n",
       "XB       257.74\n",
       "GB       255.46\n",
       "NES      251.05\n",
       "N64      218.68\n",
       "SNES     200.04\n",
       "GC       198.93\n",
       "XOne     159.32\n",
       "2600      96.98\n",
       "WiiU      82.19\n",
       "PSV       54.07\n",
       "SAT       33.59\n",
       "GEN       28.35\n",
       "DC        15.95\n",
       "SCD        1.86\n",
       "NG         1.44\n",
       "WS         1.42\n",
       "TG16       0.16\n",
       "3DO        0.10\n",
       "GG         0.04\n",
       "PCFX       0.03\n",
       "Name: world_sales, dtype: float64"
      ]
     },
     "execution_count": 14,
     "metadata": {},
     "output_type": "execute_result"
    }
   ],
   "source": [
    "grouped_platform = data.groupby('platform')['world_sales'].sum().sort_values(ascending=False)\n",
    "grouped_platform"
   ]
  },
  {
   "cell_type": "markdown",
   "metadata": {},
   "source": [
    "Выделим в отдельный список платформы с продажами более 900 млн.копий и построим распределение по годам"
   ]
  },
  {
   "cell_type": "code",
   "execution_count": 15,
   "metadata": {},
   "outputs": [
    {
     "name": "stdout",
     "output_type": "stream",
     "text": [
      "Список популярных платформ, с продажами более 900 млн. копий: \n",
      " ['PS2', 'X360', 'PS3', 'Wii']\n"
     ]
    },
    {
     "data": {
      "image/png": "[encoded data removed]",
      "text/plain": [
       "<Figure size 720x360 with 1 Axes>"
      ]
     },
     "metadata": {
      "needs_background": "light"
     },
     "output_type": "display_data"
    }
   ],
   "source": [
    "popular_platform =[]\n",
    "for item in range(len(grouped_platform)):\n",
    "    if grouped_platform[item] > 900:\n",
    "        popular_platform.append(grouped_platform.index[item])\n",
    "print('Список популярных платформ, с продажами более 900 млн. копий: \\n',popular_platform)\n",
    "data.query('platform in @popular_platform').pivot_table(index='year_of_release', columns='platform', values='world_sales', aggfunc='sum').plot(figsize=(10,5))\n",
    "plt.ylabel('world_sales')\n",
    "plt.title('Popular platform world_sales')\n",
    "plt.show()"
   ]
  },
  {
   "cell_type": "markdown",
   "metadata": {},
   "source": [
    "Определим средний жизенный цикл платформ"
   ]
  },
  {
   "cell_type": "code",
   "execution_count": 16,
   "metadata": {
    "scrolled": true
   },
   "outputs": [
    {
     "name": "stdout",
     "output_type": "stream",
     "text": [
      "Жизненный цикл платформы PS2 равен 11 лет\n",
      "Жизненный цикл платформы X360 равен 11 лет\n",
      "Жизненный цикл платформы PS3 равен 10 лет\n",
      "Жизненный цикл платформы Wii равен 10 лет\n",
      "\n",
      "Средний жизненный цикл популярных платформ(с продажами более 900 млн.копий) составляет 10 лет\n"
     ]
    }
   ],
   "source": [
    "def platform_life_cycle(platform_name):\n",
    "    min_year = data.query('platform == @platform_name')['year_of_release'].min()\n",
    "    max_year = data.query('platform == @platform_name')['year_of_release'].max()\n",
    "    life_cycle = max_year-min_year\n",
    "    print('Жизненный цикл платформы',platform_name,'равен',life_cycle,'лет')\n",
    "    return life_cycle\n",
    "c = 0\n",
    "sum_life_cycle = 0\n",
    "#for item in data['platform'].unique(): #- так можно посчитать средний жизненный цикл по всем платформам\n",
    "for item in popular_platform:\n",
    "    sum_life_cycle += platform_life_cycle(item)\n",
    "    c += 1\n",
    "print('\\nСредний жизненный цикл популярных платформ(с продажами более 900 млн.копий) составляет',round(sum_life_cycle/c),'лет')"
   ]
  },
  {
   "cell_type": "markdown",
   "metadata": {},
   "source": [
    "### Определение актуального периода\n",
    "\n",
    "Поскольку данные за 2016 год могут быть неполными, определяем актуальный период в 3 года с 2013 до 2015 года, поскольку именно с 2013 года наблюдается появление последних платформ и имеющих тенденцию к развитию. С учетом среднего жизненного цикла в 10 лет, это может период 2013 по 2015 может рассмтариваться как период развития."
   ]
  },
  {
   "cell_type": "code",
   "execution_count": 17,
   "metadata": {
    "scrolled": false
   },
   "outputs": [
    {
     "data": {
      "text/html": [
       "<div>\n",
       "<style scoped>\n",
       "    .dataframe tbody tr th:only-of-type {\n",
       "        vertical-align: middle;\n",
       "    }\n",
       "\n",
       "    .dataframe tbody tr th {\n",
       "        vertical-align: top;\n",
       "    }\n",
       "\n",
       "    .dataframe thead th {\n",
       "        text-align: right;\n",
       "    }\n",
       "</style>\n",
       "<table border=\"1\" class=\"dataframe\">\n",
       "  <thead>\n",
       "    <tr style=\"text-align: right;\">\n",
       "      <th></th>\n",
       "      <th>name</th>\n",
       "      <th>platform</th>\n",
       "      <th>year_of_release</th>\n",
       "      <th>genre</th>\n",
       "      <th>na_sales</th>\n",
       "      <th>eu_sales</th>\n",
       "      <th>jp_sales</th>\n",
       "      <th>other_sales</th>\n",
       "      <th>critic_score</th>\n",
       "      <th>user_score</th>\n",
       "      <th>rating</th>\n",
       "      <th>world_sales</th>\n",
       "    </tr>\n",
       "  </thead>\n",
       "  <tbody>\n",
       "    <tr>\n",
       "      <td>16</td>\n",
       "      <td>Grand Theft Auto V</td>\n",
       "      <td>PS3</td>\n",
       "      <td>2013</td>\n",
       "      <td>Action</td>\n",
       "      <td>7.02</td>\n",
       "      <td>9.09</td>\n",
       "      <td>0.98</td>\n",
       "      <td>3.96</td>\n",
       "      <td>97.0</td>\n",
       "      <td>8.2</td>\n",
       "      <td>M</td>\n",
       "      <td>21.05</td>\n",
       "    </tr>\n",
       "    <tr>\n",
       "      <td>23</td>\n",
       "      <td>Grand Theft Auto V</td>\n",
       "      <td>X360</td>\n",
       "      <td>2013</td>\n",
       "      <td>Action</td>\n",
       "      <td>9.66</td>\n",
       "      <td>5.14</td>\n",
       "      <td>0.06</td>\n",
       "      <td>1.41</td>\n",
       "      <td>97.0</td>\n",
       "      <td>8.1</td>\n",
       "      <td>M</td>\n",
       "      <td>16.27</td>\n",
       "    </tr>\n",
       "    <tr>\n",
       "      <td>31</td>\n",
       "      <td>Call of Duty: Black Ops 3</td>\n",
       "      <td>PS4</td>\n",
       "      <td>2015</td>\n",
       "      <td>Shooter</td>\n",
       "      <td>6.03</td>\n",
       "      <td>5.86</td>\n",
       "      <td>0.36</td>\n",
       "      <td>2.38</td>\n",
       "      <td>NaN</td>\n",
       "      <td>NaN</td>\n",
       "      <td>NaN</td>\n",
       "      <td>14.63</td>\n",
       "    </tr>\n",
       "    <tr>\n",
       "      <td>33</td>\n",
       "      <td>Pokemon X/Pokemon Y</td>\n",
       "      <td>3DS</td>\n",
       "      <td>2013</td>\n",
       "      <td>Role-Playing</td>\n",
       "      <td>5.28</td>\n",
       "      <td>4.19</td>\n",
       "      <td>4.35</td>\n",
       "      <td>0.78</td>\n",
       "      <td>NaN</td>\n",
       "      <td>NaN</td>\n",
       "      <td>NaN</td>\n",
       "      <td>14.60</td>\n",
       "    </tr>\n",
       "    <tr>\n",
       "      <td>42</td>\n",
       "      <td>Grand Theft Auto V</td>\n",
       "      <td>PS4</td>\n",
       "      <td>2014</td>\n",
       "      <td>Action</td>\n",
       "      <td>3.96</td>\n",
       "      <td>6.31</td>\n",
       "      <td>0.38</td>\n",
       "      <td>1.97</td>\n",
       "      <td>97.0</td>\n",
       "      <td>8.3</td>\n",
       "      <td>M</td>\n",
       "      <td>12.62</td>\n",
       "    </tr>\n",
       "    <tr>\n",
       "      <td>...</td>\n",
       "      <td>...</td>\n",
       "      <td>...</td>\n",
       "      <td>...</td>\n",
       "      <td>...</td>\n",
       "      <td>...</td>\n",
       "      <td>...</td>\n",
       "      <td>...</td>\n",
       "      <td>...</td>\n",
       "      <td>...</td>\n",
       "      <td>...</td>\n",
       "      <td>...</td>\n",
       "      <td>...</td>\n",
       "    </tr>\n",
       "    <tr>\n",
       "      <td>16668</td>\n",
       "      <td>Fujiko F. Fujio Characters: Great Assembly! Sl...</td>\n",
       "      <td>3DS</td>\n",
       "      <td>2014</td>\n",
       "      <td>Action</td>\n",
       "      <td>0.00</td>\n",
       "      <td>0.00</td>\n",
       "      <td>0.01</td>\n",
       "      <td>0.00</td>\n",
       "      <td>NaN</td>\n",
       "      <td>NaN</td>\n",
       "      <td>NaN</td>\n",
       "      <td>0.01</td>\n",
       "    </tr>\n",
       "    <tr>\n",
       "      <td>16674</td>\n",
       "      <td>Tsukigime Ranko's Longest Day</td>\n",
       "      <td>PS3</td>\n",
       "      <td>2014</td>\n",
       "      <td>Action</td>\n",
       "      <td>0.00</td>\n",
       "      <td>0.01</td>\n",
       "      <td>0.00</td>\n",
       "      <td>0.00</td>\n",
       "      <td>NaN</td>\n",
       "      <td>NaN</td>\n",
       "      <td>NaN</td>\n",
       "      <td>0.01</td>\n",
       "    </tr>\n",
       "    <tr>\n",
       "      <td>16682</td>\n",
       "      <td>Grisaia no Kajitsu: La Fruit de la Grisaia</td>\n",
       "      <td>PSP</td>\n",
       "      <td>2013</td>\n",
       "      <td>Adventure</td>\n",
       "      <td>0.00</td>\n",
       "      <td>0.00</td>\n",
       "      <td>0.01</td>\n",
       "      <td>0.00</td>\n",
       "      <td>NaN</td>\n",
       "      <td>NaN</td>\n",
       "      <td>NaN</td>\n",
       "      <td>0.01</td>\n",
       "    </tr>\n",
       "    <tr>\n",
       "      <td>16692</td>\n",
       "      <td>Metal Gear Solid V: Ground Zeroes</td>\n",
       "      <td>PC</td>\n",
       "      <td>2014</td>\n",
       "      <td>Action</td>\n",
       "      <td>0.00</td>\n",
       "      <td>0.01</td>\n",
       "      <td>0.00</td>\n",
       "      <td>0.00</td>\n",
       "      <td>80.0</td>\n",
       "      <td>7.6</td>\n",
       "      <td>M</td>\n",
       "      <td>0.01</td>\n",
       "    </tr>\n",
       "    <tr>\n",
       "      <td>16707</td>\n",
       "      <td>Aiyoku no Eustia</td>\n",
       "      <td>PSV</td>\n",
       "      <td>2014</td>\n",
       "      <td>Misc</td>\n",
       "      <td>0.00</td>\n",
       "      <td>0.00</td>\n",
       "      <td>0.01</td>\n",
       "      <td>0.00</td>\n",
       "      <td>NaN</td>\n",
       "      <td>NaN</td>\n",
       "      <td>NaN</td>\n",
       "      <td>0.01</td>\n",
       "    </tr>\n",
       "  </tbody>\n",
       "</table>\n",
       "<p>1740 rows × 12 columns</p>\n",
       "</div>"
      ],
      "text/plain": [
       "                                                    name platform  \\\n",
       "16                                    Grand Theft Auto V      PS3   \n",
       "23                                    Grand Theft Auto V     X360   \n",
       "31                             Call of Duty: Black Ops 3      PS4   \n",
       "33                                   Pokemon X/Pokemon Y      3DS   \n",
       "42                                    Grand Theft Auto V      PS4   \n",
       "...                                                  ...      ...   \n",
       "16668  Fujiko F. Fujio Characters: Great Assembly! Sl...      3DS   \n",
       "16674                      Tsukigime Ranko's Longest Day      PS3   \n",
       "16682         Grisaia no Kajitsu: La Fruit de la Grisaia      PSP   \n",
       "16692                  Metal Gear Solid V: Ground Zeroes       PC   \n",
       "16707                                   Aiyoku no Eustia      PSV   \n",
       "\n",
       "       year_of_release         genre  na_sales  eu_sales  jp_sales  \\\n",
       "16                2013        Action      7.02      9.09      0.98   \n",
       "23                2013        Action      9.66      5.14      0.06   \n",
       "31                2015       Shooter      6.03      5.86      0.36   \n",
       "33                2013  Role-Playing      5.28      4.19      4.35   \n",
       "42                2014        Action      3.96      6.31      0.38   \n",
       "...                ...           ...       ...       ...       ...   \n",
       "16668             2014        Action      0.00      0.00      0.01   \n",
       "16674             2014        Action      0.00      0.01      0.00   \n",
       "16682             2013     Adventure      0.00      0.00      0.01   \n",
       "16692             2014        Action      0.00      0.01      0.00   \n",
       "16707             2014          Misc      0.00      0.00      0.01   \n",
       "\n",
       "       other_sales  critic_score  user_score rating  world_sales  \n",
       "16            3.96          97.0         8.2      M        21.05  \n",
       "23            1.41          97.0         8.1      M        16.27  \n",
       "31            2.38           NaN         NaN    NaN        14.63  \n",
       "33            0.78           NaN         NaN    NaN        14.60  \n",
       "42            1.97          97.0         8.3      M        12.62  \n",
       "...            ...           ...         ...    ...          ...  \n",
       "16668         0.00           NaN         NaN    NaN         0.01  \n",
       "16674         0.00           NaN         NaN    NaN         0.01  \n",
       "16682         0.00           NaN         NaN    NaN         0.01  \n",
       "16692         0.00          80.0         7.6      M         0.01  \n",
       "16707         0.00           NaN         NaN    NaN         0.01  \n",
       "\n",
       "[1740 rows x 12 columns]"
      ]
     },
     "execution_count": 17,
     "metadata": {},
     "output_type": "execute_result"
    }
   ],
   "source": [
    "actual_period = [2013,2015]\n",
    "#actual_data = data.query('year_of_release >= @actual_period[0] and year_of_release <= @actual_period[1]')\n",
    "actual_data = data[(data['year_of_release'] >= actual_period[0]) & (data['year_of_release'] <= actual_period[1])]\n",
    "actual_data"
   ]
  },
  {
   "cell_type": "markdown",
   "metadata": {},
   "source": [
    "Дальнейшие расчеты будем проводить для этого актуального периода\n",
    "\n",
    "### Платформы-лидеры продаж\n",
    "\n",
    "В актуальном периоде сгруппируем платформы по мировым суммарным продажам и сохраним в отдельную переменную:"
   ]
  },
  {
   "cell_type": "code",
   "execution_count": 18,
   "metadata": {},
   "outputs": [
    {
     "data": {
      "text/plain": [
       "platform\n",
       "PS4     244.89\n",
       "PS3     177.83\n",
       "X360    135.28\n",
       "XOne    133.17\n",
       "3DS     129.30\n",
       "WiiU     60.03\n",
       "PC       34.18\n",
       "PSV      29.00\n",
       "Wii      13.48\n",
       "PSP       3.50\n",
       "DS        1.54\n",
       "Name: world_sales, dtype: float64"
      ]
     },
     "metadata": {},
     "output_type": "display_data"
    },
    {
     "data": {
      "image/png": "[encoded data removed]",
      "text/plain": [
       "<Figure size 720x360 with 1 Axes>"
      ]
     },
     "metadata": {
      "needs_background": "light"
     },
     "output_type": "display_data"
    }
   ],
   "source": [
    "grouped_actual_data = actual_data.groupby('platform')['world_sales'].sum().sort_values(ascending=False)\n",
    "display(grouped_actual_data)\n",
    "actual_data.pivot_table(index='year_of_release', columns='platform', values='world_sales', aggfunc='count').plot(figsize=(10,5))\n",
    "plt.ylabel('world_sales')\n",
    "plt.title('World sales of platforms in actual period ')\n",
    "plt.show()"
   ]
  },
  {
   "cell_type": "markdown",
   "metadata": {},
   "source": [
    "Можно выделить 5 лидирующих платформ с cуммарными мировыми продажами блоее 100 млн.копий. Часть из них находятся на стадии роста, а часть -на стадии падения продаж. Выделим ТОП5 популярных платформ, продажи которых составляют более 100 млн. копий:"
   ]
  },
  {
   "cell_type": "code",
   "execution_count": 19,
   "metadata": {
    "scrolled": false
   },
   "outputs": [
    {
     "name": "stdout",
     "output_type": "stream",
     "text": [
      "Список популярных платформ, с продажами более 100 млн. копий: \n",
      " ['PS4', 'PS3', 'X360', 'XOne', '3DS']\n"
     ]
    },
    {
     "data": {
      "image/png": "[encoded data removed]",
      "text/plain": [
       "<Figure size 720x360 with 1 Axes>"
      ]
     },
     "metadata": {
      "needs_background": "light"
     },
     "output_type": "display_data"
    },
    {
     "data": {
      "text/html": [
       "<div>\n",
       "<style scoped>\n",
       "    .dataframe tbody tr th:only-of-type {\n",
       "        vertical-align: middle;\n",
       "    }\n",
       "\n",
       "    .dataframe tbody tr th {\n",
       "        vertical-align: top;\n",
       "    }\n",
       "\n",
       "    .dataframe thead th {\n",
       "        text-align: right;\n",
       "    }\n",
       "</style>\n",
       "<table border=\"1\" class=\"dataframe\">\n",
       "  <thead>\n",
       "    <tr style=\"text-align: right;\">\n",
       "      <th>platform</th>\n",
       "      <th>3DS</th>\n",
       "      <th>PS3</th>\n",
       "      <th>PS4</th>\n",
       "      <th>X360</th>\n",
       "      <th>XOne</th>\n",
       "    </tr>\n",
       "    <tr>\n",
       "      <th>year_of_release</th>\n",
       "      <th></th>\n",
       "      <th></th>\n",
       "      <th></th>\n",
       "      <th></th>\n",
       "      <th></th>\n",
       "    </tr>\n",
       "  </thead>\n",
       "  <tbody>\n",
       "    <tr>\n",
       "      <td>2013</td>\n",
       "      <td>57.76</td>\n",
       "      <td>113.25</td>\n",
       "      <td>25.99</td>\n",
       "      <td>88.58</td>\n",
       "      <td>18.96</td>\n",
       "    </tr>\n",
       "    <tr>\n",
       "      <td>2014</td>\n",
       "      <td>43.76</td>\n",
       "      <td>47.76</td>\n",
       "      <td>100.00</td>\n",
       "      <td>34.74</td>\n",
       "      <td>54.07</td>\n",
       "    </tr>\n",
       "    <tr>\n",
       "      <td>2015</td>\n",
       "      <td>27.78</td>\n",
       "      <td>16.82</td>\n",
       "      <td>118.90</td>\n",
       "      <td>11.96</td>\n",
       "      <td>60.14</td>\n",
       "    </tr>\n",
       "  </tbody>\n",
       "</table>\n",
       "</div>"
      ],
      "text/plain": [
       "platform           3DS     PS3     PS4   X360   XOne\n",
       "year_of_release                                     \n",
       "2013             57.76  113.25   25.99  88.58  18.96\n",
       "2014             43.76   47.76  100.00  34.74  54.07\n",
       "2015             27.78   16.82  118.90  11.96  60.14"
      ]
     },
     "execution_count": 19,
     "metadata": {},
     "output_type": "execute_result"
    }
   ],
   "source": [
    "popular_actual_platform =[]\n",
    "for item in range(len(grouped_actual_data)):\n",
    "    if grouped_actual_data[item] > 100:\n",
    "        popular_actual_platform.append(grouped_actual_data.index[item])\n",
    "print('Список популярных платформ, с продажами более 100 млн. копий: \\n',popular_actual_platform)\n",
    "actual_data.query('platform in @popular_actual_platform').pivot_table(index='year_of_release', columns='platform', values='world_sales', aggfunc='sum').plot(figsize=(10,5))\n",
    "plt.ylabel('world_sales')\n",
    "plt.title('World sales of TOP5 platforms in actual period ')\n",
    "plt.show()\n",
    "actual_data.query('platform in @popular_actual_platform').pivot_table(index='year_of_release', columns='platform', values='world_sales', aggfunc='sum')"
   ]
  },
  {
   "cell_type": "markdown",
   "metadata": {},
   "source": [
    "Список популярных платформ в актуальном периоде определен, однако из графика видно, что из 5ти ранее обозначенных, только 2 платформы имеют тенденции к росту продаж, остальные находятся на этапе завершения жизненного цикла платформы и ожидать от них роста не стоит. Поэтому в списке популярных платформ актуального периода остаются только 2 платформы:"
   ]
  },
  {
   "cell_type": "code",
   "execution_count": 20,
   "metadata": {},
   "outputs": [],
   "source": [
    "popular_actual_platform = ['PS4', 'XOne']"
   ]
  },
  {
   "cell_type": "markdown",
   "metadata": {},
   "source": [
    "### Анализ глобальных продаж игр в разбивке по платформам с с помощью графика «ящик с усами»."
   ]
  },
  {
   "cell_type": "code",
   "execution_count": 21,
   "metadata": {
    "scrolled": false
   },
   "outputs": [
    {
     "name": "stderr",
     "output_type": "stream",
     "text": [
      "/opt/conda/lib/python3.7/site-packages/numpy/core/_asarray.py:83: VisibleDeprecationWarning: Creating an ndarray from ragged nested sequences (which is a list-or-tuple of lists-or-tuples-or ndarrays with different lengths or shapes) is deprecated. If you meant to do this, you must specify 'dtype=object' when creating the ndarray\n",
      "  return array(a, dtype, copy=False, order=order)\n"
     ]
    },
    {
     "data": {
      "image/png": "[encoded data removed]",
      "text/plain": [
       "<Figure size 432x288 with 1 Axes>"
      ]
     },
     "metadata": {
      "needs_background": "light"
     },
     "output_type": "display_data"
    },
    {
     "data": {
      "text/plain": [
       "'PS4'"
      ]
     },
     "metadata": {},
     "output_type": "display_data"
    },
    {
     "data": {
      "text/plain": [
       "count    228.000000\n",
       "mean       1.074079\n",
       "std        1.899788\n",
       "min        0.010000\n",
       "25%        0.097500\n",
       "50%        0.310000\n",
       "75%        1.105000\n",
       "max       14.630000\n",
       "Name: world_sales, dtype: float64"
      ]
     },
     "metadata": {},
     "output_type": "display_data"
    },
    {
     "data": {
      "text/plain": [
       "'XOne'"
      ]
     },
     "metadata": {},
     "output_type": "display_data"
    },
    {
     "data": {
      "text/plain": [
       "count    160.000000\n",
       "mean       0.832313\n",
       "std        1.182243\n",
       "min        0.010000\n",
       "25%        0.130000\n",
       "50%        0.350000\n",
       "75%        1.137500\n",
       "max        7.390000\n",
       "Name: world_sales, dtype: float64"
      ]
     },
     "metadata": {},
     "output_type": "display_data"
    }
   ],
   "source": [
    "actual_data[actual_data['platform'].isin(popular_actual_platform)].boxplot( by='platform' , column='world_sales')\n",
    "import warnings\n",
    "warnings.filterwarnings(\"ignore\", category=np.VisibleDeprecationWarning) \n",
    "plt.ylim([0,2])\n",
    "plt.ylabel('world_sales')\n",
    "plt.show()\n",
    "for item in popular_actual_platform:\n",
    "    display(item,actual_data.query('platform == @item')['world_sales'].describe())\n"
   ]
  },
  {
   "cell_type": "markdown",
   "metadata": {},
   "source": [
    "Медианные значения у обеих платформ практически одинаковые, но у PS4 есть выбросы- высокие продажи популярных игр, которые повлияли на бОльшие суммарные продажи платформы. "
   ]
  },
  {
   "cell_type": "markdown",
   "metadata": {},
   "source": [
    "### Влияние отзывов пользователей и критиков на продажи внутри одной популярной платформы.\n",
    "\n",
    "В качестве популярной платформы выберем платформу с максимальными продажами- PS4.\n",
    " \n",
    "Построим диаграмму рассеяния зависимсости продаж от оценок критиков:"
   ]
  },
  {
   "cell_type": "code",
   "execution_count": 22,
   "metadata": {},
   "outputs": [
    {
     "data": {
      "text/plain": [
       "<matplotlib.axes._subplots.AxesSubplot at 0x7f35351fff90>"
      ]
     },
     "execution_count": 22,
     "metadata": {},
     "output_type": "execute_result"
    },
    {
     "data": {
      "image/png": "[encoded data removed]",
      "text/plain": [
       "<Figure size 432x288 with 1 Axes>"
      ]
     },
     "metadata": {
      "needs_background": "light"
     },
     "output_type": "display_data"
    }
   ],
   "source": [
    "actual_data.query('platform == \"PS4\"').plot(x='critic_score',y='world_sales', kind = 'scatter', title='PS4')"
   ]
  },
  {
   "cell_type": "markdown",
   "metadata": {},
   "source": [
    "Платформа PS4 имеет высокие продажи(более 2 млн. копий) по тем играм, по которым критики поставили оценку 70 и более.\n",
    "\n",
    "Построим диаграмму рассеяния зависимсости продаж от оценок пользователей:"
   ]
  },
  {
   "cell_type": "code",
   "execution_count": 23,
   "metadata": {},
   "outputs": [
    {
     "data": {
      "text/plain": [
       "<matplotlib.axes._subplots.AxesSubplot at 0x7f350d994990>"
      ]
     },
     "execution_count": 23,
     "metadata": {},
     "output_type": "execute_result"
    },
    {
     "data": {
      "image/png": "[encoded data removed]",
      "text/plain": [
       "<Figure size 432x288 with 1 Axes>"
      ]
     },
     "metadata": {
      "needs_background": "light"
     },
     "output_type": "display_data"
    }
   ],
   "source": [
    "actual_data.query('platform == \"PS4\"').plot(x='user_score',y='world_sales', kind = 'scatter',title='PS4')"
   ]
  },
  {
   "cell_type": "markdown",
   "metadata": {},
   "source": [
    "Платформа PS4 имеет высокие продажи(более 2 млн. копий) по тем играм, по которым пользователи поставили преимущественно оценку 6 и более"
   ]
  },
  {
   "cell_type": "markdown",
   "metadata": {},
   "source": [
    "Для определения корреляции между отзывами и продажами, построим матрицу коррелиции:"
   ]
  },
  {
   "cell_type": "code",
   "execution_count": 24,
   "metadata": {},
   "outputs": [
    {
     "data": {
      "image/png": "[encoded data removed]",
      "text/plain": [
       "<Figure size 720x360 with 2 Axes>"
      ]
     },
     "metadata": {
      "needs_background": "light"
     },
     "output_type": "display_data"
    }
   ],
   "source": [
    "plt.figure(figsize=(10, 5))\n",
    "heatmap_data_filtered = actual_data[['platform','na_sales','eu_sales','jp_sales','other_sales','critic_score','user_score','world_sales']]\n",
    "heatmap_data_filtered = seaborn.heatmap(heatmap_data_filtered.query('platform == \"PS4\"').corr(), annot=True, fmt = '.1g') "
   ]
  },
  {
   "cell_type": "markdown",
   "metadata": {},
   "source": [
    "Общие продажи платформы PS4 сильнее зависят от оценок критиков, нежели чем от оценок пользолвателей\n",
    "\n",
    "### Продажи игр на других платформах. \n",
    "\n",
    "Построим диаграмму рассеяния зависимсости продаж от оценок критиков по другим платформам:"
   ]
  },
  {
   "cell_type": "code",
   "execution_count": 25,
   "metadata": {},
   "outputs": [
    {
     "data": {
      "text/plain": [
       "<matplotlib.axes._subplots.AxesSubplot at 0x7f350e328dd0>"
      ]
     },
     "execution_count": 25,
     "metadata": {},
     "output_type": "execute_result"
    },
    {
     "data": {
      "image/png": "[encoded data removed]",
      "text/plain": [
       "<Figure size 432x288 with 1 Axes>"
      ]
     },
     "metadata": {
      "needs_background": "light"
     },
     "output_type": "display_data"
    }
   ],
   "source": [
    "actual_data.query('platform != \"PS4\"').plot(x='critic_score',y='world_sales', kind = 'scatter', title='Other platform')"
   ]
  },
  {
   "cell_type": "markdown",
   "metadata": {},
   "source": [
    "Остальные платформы имеют высокие продажи(более 3 млн. копий) по тем играм, по которым критики преимущественно поставили оценку  70 и более."
   ]
  },
  {
   "cell_type": "code",
   "execution_count": 26,
   "metadata": {},
   "outputs": [
    {
     "data": {
      "text/plain": [
       "<matplotlib.axes._subplots.AxesSubplot at 0x7f350db2d510>"
      ]
     },
     "execution_count": 26,
     "metadata": {},
     "output_type": "execute_result"
    },
    {
     "data": {
      "image/png": "[encoded data removed]",
      "text/plain": [
       "<Figure size 432x288 with 1 Axes>"
      ]
     },
     "metadata": {
      "needs_background": "light"
     },
     "output_type": "display_data"
    }
   ],
   "source": [
    "actual_data.query('platform != \"PS4\"').plot(x='user_score',y='world_sales', kind='scatter', title='Other platform')"
   ]
  },
  {
   "cell_type": "markdown",
   "metadata": {},
   "source": [
    "Остальные платформы имеют высокие продажи(более 4 млн. копий) по тем играм, по которым пользователи преимущественно поставили оценку 4 и более."
   ]
  },
  {
   "cell_type": "code",
   "execution_count": 27,
   "metadata": {
    "scrolled": false
   },
   "outputs": [
    {
     "data": {
      "image/png": "[encoded data removed]",
      "text/plain": [
       "<Figure size 720x360 with 2 Axes>"
      ]
     },
     "metadata": {
      "needs_background": "light"
     },
     "output_type": "display_data"
    }
   ],
   "source": [
    "plt.figure(figsize=(10, 5))\n",
    "heatmap_data_filtered = actual_data[['platform','na_sales','eu_sales','jp_sales','other_sales','critic_score','user_score','world_sales']]\n",
    "heatmap_data_filtered = seaborn.heatmap(heatmap_data_filtered.query('platform != \"PS4\"').corr(), annot=True, fmt = '.1g') "
   ]
  },
  {
   "cell_type": "markdown",
   "metadata": {},
   "source": [
    "Общие продажи по остальным платформам также сильнее зависят от оценок критиков, нежели чем от оценок пользолвателей.\n",
    "\n",
    "### Общее распределение игр по жанрам.\n",
    "\n",
    "В актуальном периоде сгруппируем суммарные мировые продажи по жанрам игр:"
   ]
  },
  {
   "cell_type": "code",
   "execution_count": 28,
   "metadata": {
    "scrolled": false
   },
   "outputs": [
    {
     "data": {
      "text/plain": [
       "genre\n",
       "Action          292.16\n",
       "Shooter         194.83\n",
       "Role-Playing    128.00\n",
       "Sports          127.18\n",
       "Misc             60.22\n",
       "Platform         39.40\n",
       "Racing           37.19\n",
       "Fighting         30.84\n",
       "Simulation       20.36\n",
       "Adventure        19.91\n",
       "Strategy          8.95\n",
       "Puzzle            3.16\n",
       "Name: world_sales, dtype: float64"
      ]
     },
     "execution_count": 28,
     "metadata": {},
     "output_type": "execute_result"
    },
    {
     "data": {
      "image/png": "[encoded data removed]",
      "text/plain": [
       "<Figure size 432x288 with 1 Axes>"
      ]
     },
     "metadata": {
      "needs_background": "light"
     },
     "output_type": "display_data"
    }
   ],
   "source": [
    "grouped_genre_actual_data = actual_data.groupby('genre')['world_sales'].sum().sort_values(ascending=False)\n",
    "actual_data.groupby('genre')['world_sales'].sum().sort_values(ascending=False).plot(kind='barh', title='World_sales by genres')\n",
    "plt.xlabel('sales')\n",
    "grouped_genre_actual_data"
   ]
  },
  {
   "cell_type": "markdown",
   "metadata": {},
   "source": [
    "Самые большие продажи у игр с жанром Action, самые маленькие - с жанром Puzzle.\n",
    "\n",
    "## Портрет пользователя  \n",
    "\n",
    "Определим для пользователя каждого региона (NA, EU, JP): <br/>\n",
    "•\tСамые популярные платформы (топ-5). Опишите различия в долях продаж.<br/>\n",
    "•\tСамые популярные жанры (топ-5). Поясните разницу.<br/>\n",
    "•\tВлияет ли рейтинг ESRB на продажи в отдельном регионе?\n",
    "\n",
    "**• Определим самые популярные платформы:**"
   ]
  },
  {
   "cell_type": "code",
   "execution_count": 29,
   "metadata": {},
   "outputs": [
    {
     "name": "stdout",
     "output_type": "stream",
     "text": [
      "na_sales platform\n",
      "PS4     87.25\n",
      "X360    80.97\n",
      "XOne    78.85\n",
      "PS3     62.83\n",
      "3DS     34.90\n",
      "Name: na_sales, dtype: float64\n"
     ]
    },
    {
     "data": {
      "image/png": "[encoded data removed]",
      "text/plain": [
       "<Figure size 432x288 with 1 Axes>"
      ]
     },
     "metadata": {
      "needs_background": "light"
     },
     "output_type": "display_data"
    },
    {
     "name": "stdout",
     "output_type": "stream",
     "text": [
      "eu_sales platform\n",
      "PS4     109.31\n",
      "PS3      66.55\n",
      "XOne     41.96\n",
      "X360     41.81\n",
      "3DS      28.84\n",
      "Name: eu_sales, dtype: float64\n"
     ]
    },
    {
     "data": {
      "image/png": "[encoded data removed]",
      "text/plain": [
       "<Figure size 432x288 with 1 Axes>"
      ]
     },
     "metadata": {
      "needs_background": "light"
     },
     "output_type": "display_data"
    },
    {
     "name": "stdout",
     "output_type": "stream",
     "text": [
      "jp_sales platform\n",
      "3DS     59.83\n",
      "PS3     22.05\n",
      "PSV     15.10\n",
      "PS4     10.22\n",
      "WiiU    10.21\n",
      "Name: jp_sales, dtype: float64\n"
     ]
    },
    {
     "data": {
      "image/png": "[encoded data removed]",
      "text/plain": [
       "<Figure size 432x288 with 1 Axes>"
      ]
     },
     "metadata": {
      "needs_background": "light"
     },
     "output_type": "display_data"
    },
    {
     "name": "stdout",
     "output_type": "stream",
     "text": [
      "Доли продаж ТОП-5 платформ: \n",
      "\n",
      " [platform\n",
      "PS4     22.0\n",
      "X360    21.0\n",
      "XOne    20.0\n",
      "PS3     16.0\n",
      "3DS      9.0\n",
      "Name: na_sales, dtype: float64, platform\n",
      "PS4     32.0\n",
      "PS3     20.0\n",
      "XOne    12.0\n",
      "X360    12.0\n",
      "3DS      8.0\n",
      "Name: eu_sales, dtype: float64, platform\n",
      "3DS     49.0\n",
      "PS3     18.0\n",
      "PSV     12.0\n",
      "PS4      8.0\n",
      "WiiU     8.0\n",
      "Name: jp_sales, dtype: float64]\n"
     ]
    }
   ],
   "source": [
    "columns_to_analize = ['na_sales','eu_sales','jp_sales']\n",
    "top5 = [] # список для ТОП 5 платформ по регионам\n",
    "region_sales = []  # список для формирования суммарных продаж по регионам\n",
    "top5_sale_percent = [] # список для формирования доли продаж ТОП-5 платформ по регионам\n",
    "c=0\n",
    "for item in columns_to_analize:\n",
    "    top5.append(actual_data.groupby('platform')[item].sum().sort_values(ascending=False).head()) # сформируем список списков ТОП 5 популярных платформ\n",
    "    region_sales.append(actual_data[item].sum()) # суммируем продажи по всем платформам каждого региона\n",
    "    top5_sale_percent.append(round(top5[c]/region_sales[c]*100,0)) # расчет доли продаж в процентах\n",
    "    print(item,top5[c])\n",
    "    c+=1\n",
    "    plt.title(item)\n",
    "    plt.xlabel('Sales')\n",
    "    actual_data.groupby('platform')[item].sum().sort_values(ascending=False).head().plot(kind='barh')# выведем на экран ТОП 5 популярных платфор в зависимости от региона\n",
    "    plt.show()\n",
    "print('Доли продаж ТОП-5 платформ: \\n\\n',top5_sale_percent)"
   ]
  },
  {
   "cell_type": "markdown",
   "metadata": {},
   "source": [
    "В США самая популярная платформа - PS4. <br/>\n",
    "В Европейских странах - PS4. <br/>\n",
    "В Японии - 3DS. <br/>\n",
    "\n",
    "Самые большие продажи популярной платформы PS4 в Европе. Однако в Японии популярная платформа 3DS имеет самую большую долю продаж по сравнению с другими регионами."
   ]
  },
  {
   "cell_type": "code",
   "execution_count": 30,
   "metadata": {},
   "outputs": [
    {
     "name": "stdout",
     "output_type": "stream",
     "text": [
      "Доля ТОП-5 платформ региона Северная Америка составляет 88.0 % от общих продаж в регионе\n",
      "Доля ТОП-5 платформ региона Европа составляет 84.0 % от общих продаж в регионе\n",
      "Доля ТОП-5 платформ региона Япония составляет 95.0 % от общих продаж в регионе\n"
     ]
    }
   ],
   "source": [
    "regions = ['Северная Америка','Европа','Япония']\n",
    "for item in range(len(columns_to_analize)):\n",
    "    print('Доля ТОП-5 платформ региона',regions[item],'составляет',top5_sale_percent[item].sum(),'% от общих продаж в регионе')"
   ]
  },
  {
   "cell_type": "markdown",
   "metadata": {},
   "source": [
    "Продажи 5 самых популярных платформ составляет более 80% от общих продаж в регионах.\n",
    "\n",
    "**• Определим самые популярные жанры игр:**"
   ]
  },
  {
   "cell_type": "code",
   "execution_count": 31,
   "metadata": {
    "scrolled": false
   },
   "outputs": [
    {
     "data": {
      "image/png": "[encoded data removed]",
      "text/plain": [
       "<Figure size 432x288 with 1 Axes>"
      ]
     },
     "metadata": {
      "needs_background": "light"
     },
     "output_type": "display_data"
    },
    {
     "data": {
      "image/png": "[encoded data removed]",
      "text/plain": [
       "<Figure size 432x288 with 1 Axes>"
      ]
     },
     "metadata": {
      "needs_background": "light"
     },
     "output_type": "display_data"
    },
    {
     "data": {
      "image/png": "[encoded data removed]",
      "text/plain": [
       "<Figure size 432x288 with 1 Axes>"
      ]
     },
     "metadata": {
      "needs_background": "light"
     },
     "output_type": "display_data"
    },
    {
     "data": {
      "text/plain": [
       "[genre\n",
       " Action          116.94\n",
       " Shooter          93.54\n",
       " Sports           57.73\n",
       " Role-Playing     40.62\n",
       " Misc             26.73\n",
       " Name: na_sales, dtype: float64,\n",
       " genre\n",
       " Action          107.64\n",
       " Shooter          71.98\n",
       " Sports           48.51\n",
       " Role-Playing     32.74\n",
       " Misc             19.38\n",
       " Name: eu_sales, dtype: float64,\n",
       " genre\n",
       " Role-Playing    44.53\n",
       " Action          33.42\n",
       " Misc             8.16\n",
       " Fighting         6.90\n",
       " Shooter          5.55\n",
       " Name: jp_sales, dtype: float64]"
      ]
     },
     "execution_count": 31,
     "metadata": {},
     "output_type": "execute_result"
    }
   ],
   "source": [
    "top5genre =[]\n",
    "for item in columns_to_analize:\n",
    "    top5genre.append(actual_data.groupby('genre')[item].sum().sort_values(ascending=False).head()) # сформируем список списков ТОП 5 популярных платформ\n",
    "    plt.title(item)\n",
    "    plt.xlabel('sales')\n",
    "    actual_data.groupby('genre')[item].sum().sort_values(ascending=False).head().plot(kind='barh')# выведем на экран ТОП 5 популярных платфор в зависимости от региона\n",
    "    plt.show()\n",
    "top5genre    "
   ]
  },
  {
   "cell_type": "code",
   "execution_count": 43,
   "metadata": {},
   "outputs": [
    {
     "data": {
      "image/png": "[encoded data removed]",
      "text/plain": [
       "<Figure size 1152x432 with 3 Axes>"
      ]
     },
     "metadata": {
      "needs_background": "light"
     },
     "output_type": "display_data"
    }
   ],
   "source": [
    "top5genre =[]\n",
    "fig, axs = plt.subplots(1, 3, figsize=(16,6))\n",
    "for item, ax in zip(columns_to_analize, axs):\n",
    "    top5genre.append(actual_data.groupby('genre')[item].sum().sort_values(ascending=False).head()) # сформируем список списков ТОП 5 популярных платформ\n",
    "    plt.title(item)\n",
    "    plt.xlabel('sales')\n",
    "    actual_data.groupby('genre')[item].sum().sort_values(ascending=False).head().plot(kind='bar', ax=ax)# выведем на экран ТОП 5 популярных платфор в зависимости от региона\n",
    "plt.show()"
   ]
  },
  {
   "cell_type": "markdown",
   "metadata": {},
   "source": [
    "В США и Европе самый популярный жанр игры - Action, в то время как в Японии - это Role-Playing   \n",
    "\n",
    "**• Влияние рейтинга ESRB на продажи в отдельном регионе**"
   ]
  },
  {
   "cell_type": "code",
   "execution_count": 33,
   "metadata": {
    "scrolled": false
   },
   "outputs": [
    {
     "data": {
      "image/png": "[encoded data removed]",
      "text/plain": [
       "<Figure size 432x288 with 1 Axes>"
      ]
     },
     "metadata": {
      "needs_background": "light"
     },
     "output_type": "display_data"
    },
    {
     "data": {
      "image/png": "[encoded data removed]",
      "text/plain": [
       "<Figure size 432x288 with 1 Axes>"
      ]
     },
     "metadata": {
      "needs_background": "light"
     },
     "output_type": "display_data"
    },
    {
     "data": {
      "image/png": "[encoded data removed]",
      "text/plain": [
       "<Figure size 432x288 with 1 Axes>"
      ]
     },
     "metadata": {
      "needs_background": "light"
     },
     "output_type": "display_data"
    }
   ],
   "source": [
    "top_rating =[]\n",
    "for item in columns_to_analize:\n",
    "    top_rating.append(data.groupby('rating')[item].sum().sort_values(ascending=False).head()) # сформируем список списков ТОП 5 популярных платформ\n",
    "    plt.title(item)\n",
    "    plt.xlabel('Sales')\n",
    "    data.groupby('rating')[item].sum().sort_values(ascending=False).head().plot(kind='barh')# выведем на экран ТОП 5 популярных платфор в зависимости от региона\n",
    "    plt.show()"
   ]
  },
  {
   "cell_type": "markdown",
   "metadata": {},
   "source": [
    "    Самые популярные игры во всех регионах - это игры рейтинга «E» («Everyone») — «Для всех», т.к. охватывает и детей 6+ и взрослых. Продажи игр этой категории в Северной Америке почти в 2 раза больше чем в Европе и почти в 6 раз больше чем в Японии. В США и Японии на втором месте игры рейтинга «T» («Teen») — «Подросткам»: 13+, на третьем месте игры  ретинга «M» («Mature») — «Для взрослых» 17+.В Европе же наоборот-  на втором месте игры рейтинга М, на третьем -рейтинга Т"
   ]
  },
  {
   "cell_type": "markdown",
   "metadata": {},
   "source": [
    "\n",
    "\n",
    "## Проверка гипотез\n",
    "\n",
    "Проверим 2 гипотезы:\n",
    "\n",
    "•\tСредние пользовательские рейтинги платформ Xbox One и PC одинаковые;<br/>\n",
    "•\tСредние пользовательские рейтинги жанров Action (англ. «действие», экшен-игры) и Sports (англ. «спортивные соревнования») разные.\n",
    "\n",
    "**•\tСредние пользовательские рейтинги платформ Xbox One и PC одинаковые:** <br/>\n",
    "\n",
    "Сформируем нулевую гипотезу: Средние пользовательские рейтинги платформ Xbox One и PC равны, тогда как алтернативая гипотеза будет звучать: Средние пользовательские рейтинги платформ Xbox One и PC разные.\n",
    "\n",
    "Сформируем рейтинги платформ Xbox One и PC, избавившись от пропусков"
   ]
  },
  {
   "cell_type": "code",
   "execution_count": 34,
   "metadata": {},
   "outputs": [],
   "source": [
    "user_score_xbox_one = actual_data.query('platform == \"XOne\"')['user_score']\n",
    "user_score_xbox_one = user_score_xbox_one.dropna()\n",
    "user_score_pc = actual_data.query('platform == \"PC\"')['user_score']\n",
    "user_score_pc = user_score_pc.dropna()"
   ]
  },
  {
   "cell_type": "markdown",
   "metadata": {},
   "source": [
    "Проверим дисперсии значений рейтингов платформ:"
   ]
  },
  {
   "cell_type": "code",
   "execution_count": 35,
   "metadata": {},
   "outputs": [
    {
     "data": {
      "text/plain": [
       "'Дисперсия значениий рейтингов Xbox One:'"
      ]
     },
     "metadata": {},
     "output_type": "display_data"
    },
    {
     "data": {
      "text/plain": [
       "1.66"
      ]
     },
     "metadata": {},
     "output_type": "display_data"
    },
    {
     "data": {
      "text/plain": [
       "'Дисперсия значениий рейтингов PC:'"
      ]
     },
     "metadata": {},
     "output_type": "display_data"
    },
    {
     "data": {
      "text/plain": [
       "3.07"
      ]
     },
     "metadata": {},
     "output_type": "display_data"
    }
   ],
   "source": [
    "display('Дисперсия значениий рейтингов Xbox One:',user_score_xbox_one.var().round(2),'Дисперсия значениий рейтингов PC:',user_score_pc.var().round(2))"
   ]
  },
  {
   "cell_type": "markdown",
   "metadata": {},
   "source": [
    "Выборки имеют разные дисперсии, поэтому для устанавливаем параметр equal_var = False"
   ]
  },
  {
   "cell_type": "code",
   "execution_count": 36,
   "metadata": {},
   "outputs": [
    {
     "name": "stdout",
     "output_type": "stream",
     "text": [
      "p-значение:  0.2867036680187632\n",
      "Не получилось отвергнуть нулевую гипотезу\n"
     ]
    }
   ],
   "source": [
    "alpha = 0.05 \n",
    "results = st.ttest_ind(user_score_xbox_one,user_score_pc,equal_var = False)\n",
    "print('p-значение: ', results.pvalue) \n",
    "if results.pvalue < alpha: \n",
    "    print(\"Отвергаем нулевую гипотезу\") \n",
    "else: \n",
    "    print(\"Не получилось отвергнуть нулевую гипотезу\") "
   ]
  },
  {
   "cell_type": "markdown",
   "metadata": {},
   "source": [
    "Таким образом алтернативная гипотеза верна: средние пользовательские рейтинги платформ Xbox One и PC разные.\n",
    "\n",
    "**•\tСредние пользовательские рейтинги жанров Action и Sports разные.**\n",
    "\n",
    "Сформируем нулевую гипотезу: Средние пользовательские рейтинги жанров Action и Sports равны, тогда как алтернативая гипотеза будет звучать: Средние пользовательские рейтинги жанров Action и Sports разные.\n",
    "\n",
    "Сформируем рейтинги жанров Action и Sports, избавившись от пропусков"
   ]
  },
  {
   "cell_type": "code",
   "execution_count": 37,
   "metadata": {},
   "outputs": [],
   "source": [
    "genre_action = actual_data.query('genre == \"Action\"')['user_score']\n",
    "genre_action = genre_action.dropna()\n",
    "genre_sports = actual_data.query('genre == \"Sports\"')['user_score']\n",
    "genre_sports = genre_sports.dropna()"
   ]
  },
  {
   "cell_type": "markdown",
   "metadata": {},
   "source": [
    "Проверим дисперсии значений рейтингов жанров:"
   ]
  },
  {
   "cell_type": "code",
   "execution_count": 38,
   "metadata": {
    "scrolled": true
   },
   "outputs": [
    {
     "data": {
      "text/plain": [
       "'Дисперсия значениий рейтингов Action:'"
      ]
     },
     "metadata": {},
     "output_type": "display_data"
    },
    {
     "data": {
      "text/plain": [
       "1.65"
      ]
     },
     "metadata": {},
     "output_type": "display_data"
    },
    {
     "data": {
      "text/plain": [
       "'Дисперсия значениий рейтингов Sports:'"
      ]
     },
     "metadata": {},
     "output_type": "display_data"
    },
    {
     "data": {
      "text/plain": [
       "2.9"
      ]
     },
     "metadata": {},
     "output_type": "display_data"
    }
   ],
   "source": [
    "display('Дисперсия значениий рейтингов Action:',genre_action.var().round(2),'Дисперсия значениий рейтингов Sports:',genre_sports.var().round(2))"
   ]
  },
  {
   "cell_type": "markdown",
   "metadata": {},
   "source": [
    "Выборки имеют разные дисперсии, поэтому для устанавливаем параметр equal_var = False"
   ]
  },
  {
   "cell_type": "code",
   "execution_count": 39,
   "metadata": {},
   "outputs": [
    {
     "name": "stdout",
     "output_type": "stream",
     "text": [
      "p-значение:  3.6032734667153843e-19\n",
      "Отвергаем нулевую гипотезу\n"
     ]
    }
   ],
   "source": [
    "alpha = 0.05 \n",
    "results = st.ttest_ind(genre_action,genre_sports,equal_var = False)\n",
    "print('p-значение: ', results.pvalue) \n",
    "if results.pvalue < alpha: \n",
    "    print(\"Отвергаем нулевую гипотезу\") \n",
    "else: \n",
    "    print(\"Не получилось отвергнуть нулевую гипотезу\") "
   ]
  },
  {
   "cell_type": "markdown",
   "metadata": {},
   "source": [
    "Таким образом подтверждается альтернативная гипотеза: средние пользовательские рейтинги жанров Action и Sports разные."
   ]
  },
  {
   "cell_type": "markdown",
   "metadata": {},
   "source": [
    "   ## Общий вывод\n",
    "   \n",
    "   В ходе исследования была обработана информация о продажах игр различных платформ за период времени с 1980 по 2016 г. Рассчитаны общие продажи платформ во всех регионах. Выявлены самые популярные, исходя из высоких продаж, платформы. Определен средний жизненный цикл популярных платформ, который составил 10 лет.<br/>\n",
    "   Учитывая современные реалии, определено, что самой популярной актуальной игровой платформой является PS4.\n",
    "   Удалось выяснить, продажи зависят от жанра игры, так, самыми популярными жанрами являются: Action(в США и Европе) и Role-Playing(в Японии).<br/>\n",
    "   \n",
    "   Продажи игр в большей степени зависит от оценки крититиков, нежели чем от оценок пользователей. Это можно объяснить тем, что пользователи при выборе игры ориентируются на отзывы и обзоры критиков.<br/>\n",
    "   \n",
    "   Самым популярным возрастным рейтингом компьютерных игр является рейтинг «E» («Everyone») — «Для всех», он охватывает большую аудиторию: и детей 6+ и взрослых. Игры с этим рейтингом могут содержать минимальное насилие, в основном «мультяшного» характера. "
   ]
  }
 ],
 "metadata": {
  "ExecuteTimeLog": [
   {
    "duration": 218,
    "start_time": "2022-02-27T16:58:21.967Z"
   },
   {
    "duration": 1159,
    "start_time": "2022-02-27T16:58:25.470Z"
   },
   {
    "duration": 1554,
    "start_time": "2022-02-27T16:58:26.631Z"
   },
   {
    "duration": 3,
    "start_time": "2022-02-27T16:58:29.361Z"
   },
   {
    "duration": 1465,
    "start_time": "2022-02-27T16:58:32.087Z"
   },
   {
    "duration": 47,
    "start_time": "2022-02-27T16:59:02.716Z"
   },
   {
    "duration": 10,
    "start_time": "2022-02-27T16:59:32.385Z"
   },
   {
    "duration": 34,
    "start_time": "2022-02-27T16:59:34.009Z"
   },
   {
    "duration": 4,
    "start_time": "2022-02-27T17:01:59.368Z"
   },
   {
    "duration": 15,
    "start_time": "2022-02-27T17:02:09.643Z"
   },
   {
    "duration": 14,
    "start_time": "2022-02-27T17:06:59.283Z"
   },
   {
    "duration": 6,
    "start_time": "2022-02-27T17:07:36.559Z"
   },
   {
    "duration": 20,
    "start_time": "2022-02-27T17:29:31.125Z"
   },
   {
    "duration": 10,
    "start_time": "2022-02-27T17:30:02.806Z"
   },
   {
    "duration": 17,
    "start_time": "2022-02-27T17:30:47.356Z"
   },
   {
    "duration": 365,
    "start_time": "2022-02-27T17:32:10.990Z"
   },
   {
    "duration": 557,
    "start_time": "2022-02-27T17:33:43.668Z"
   },
   {
    "duration": 601,
    "start_time": "2022-02-27T17:34:29.033Z"
   },
   {
    "duration": 70,
    "start_time": "2022-02-27T17:34:44.868Z"
   },
   {
    "duration": 574,
    "start_time": "2022-02-27T17:35:09.018Z"
   },
   {
    "duration": 673,
    "start_time": "2022-02-27T17:35:25.742Z"
   },
   {
    "duration": 7,
    "start_time": "2022-02-27T17:36:03.322Z"
   },
   {
    "duration": 270,
    "start_time": "2022-02-27T17:36:38.470Z"
   },
   {
    "duration": 259,
    "start_time": "2022-02-27T17:37:22.141Z"
   },
   {
    "duration": 27,
    "start_time": "2022-02-27T17:38:58.789Z"
   },
   {
    "duration": 23,
    "start_time": "2022-02-27T18:56:11.922Z"
   },
   {
    "duration": 8,
    "start_time": "2022-02-27T18:57:31.408Z"
   },
   {
    "duration": 333,
    "start_time": "2022-02-27T18:59:48.268Z"
   },
   {
    "duration": 283,
    "start_time": "2022-02-27T19:03:57.207Z"
   },
   {
    "duration": 576,
    "start_time": "2022-02-27T19:06:28.848Z"
   },
   {
    "duration": 293,
    "start_time": "2022-02-27T19:08:58.473Z"
   },
   {
    "duration": 310,
    "start_time": "2022-02-27T19:09:48.455Z"
   },
   {
    "duration": 64,
    "start_time": "2022-02-27T19:11:25.096Z"
   },
   {
    "duration": 572,
    "start_time": "2022-02-27T19:11:39.145Z"
   },
   {
    "duration": 428,
    "start_time": "2022-02-27T19:16:20.902Z"
   },
   {
    "duration": 347,
    "start_time": "2022-02-27T19:18:03.574Z"
   },
   {
    "duration": 583,
    "start_time": "2022-02-27T19:18:38.447Z"
   },
   {
    "duration": 200,
    "start_time": "2022-02-27T19:20:27.797Z"
   },
   {
    "duration": 350,
    "start_time": "2022-02-27T19:26:22.554Z"
   },
   {
    "duration": 478,
    "start_time": "2022-02-27T19:26:27.520Z"
   },
   {
    "duration": 344,
    "start_time": "2022-02-27T19:26:35.126Z"
   },
   {
    "duration": 457,
    "start_time": "2022-02-27T19:26:52.378Z"
   },
   {
    "duration": 324,
    "start_time": "2022-02-27T19:27:31.237Z"
   },
   {
    "duration": 365,
    "start_time": "2022-02-27T19:28:30.454Z"
   },
   {
    "duration": 543,
    "start_time": "2022-02-27T19:28:51.358Z"
   },
   {
    "duration": 399,
    "start_time": "2022-02-27T19:30:13.868Z"
   },
   {
    "duration": 397,
    "start_time": "2022-02-27T19:30:36.052Z"
   },
   {
    "duration": 304,
    "start_time": "2022-02-27T19:30:58.290Z"
   },
   {
    "duration": 382,
    "start_time": "2022-02-27T19:31:05.331Z"
   },
   {
    "duration": 376,
    "start_time": "2022-02-27T19:31:26.327Z"
   },
   {
    "duration": 319,
    "start_time": "2022-02-27T19:31:35.503Z"
   },
   {
    "duration": 351,
    "start_time": "2022-02-27T19:31:44.235Z"
   },
   {
    "duration": 359,
    "start_time": "2022-02-27T19:31:55.335Z"
   },
   {
    "duration": 342,
    "start_time": "2022-02-27T19:32:09.155Z"
   },
   {
    "duration": 211,
    "start_time": "2022-02-27T19:33:04.814Z"
   },
   {
    "duration": 193,
    "start_time": "2022-02-27T19:33:20.504Z"
   },
   {
    "duration": 472,
    "start_time": "2022-02-27T19:35:12.991Z"
   },
   {
    "duration": 6,
    "start_time": "2022-02-27T19:36:02.637Z"
   },
   {
    "duration": 470,
    "start_time": "2022-02-27T19:37:47.930Z"
   },
   {
    "duration": 542,
    "start_time": "2022-02-27T19:39:50.345Z"
   },
   {
    "duration": 1015,
    "start_time": "2022-02-28T03:51:04.616Z"
   },
   {
    "duration": 47,
    "start_time": "2022-02-28T03:51:05.632Z"
   },
   {
    "duration": 9,
    "start_time": "2022-02-28T03:51:05.680Z"
   },
   {
    "duration": 30,
    "start_time": "2022-02-28T03:51:05.691Z"
   },
   {
    "duration": 11,
    "start_time": "2022-02-28T03:51:05.723Z"
   },
   {
    "duration": 4,
    "start_time": "2022-02-28T03:51:05.736Z"
   },
   {
    "duration": 17,
    "start_time": "2022-02-28T03:51:05.742Z"
   },
   {
    "duration": 8,
    "start_time": "2022-02-28T03:51:05.761Z"
   },
   {
    "duration": 43,
    "start_time": "2022-02-28T03:51:05.770Z"
   },
   {
    "duration": 308,
    "start_time": "2022-02-28T03:51:05.815Z"
   },
   {
    "duration": 518,
    "start_time": "2022-02-28T03:51:06.124Z"
   },
   {
    "duration": 7,
    "start_time": "2022-02-28T03:51:06.644Z"
   },
   {
    "duration": 238,
    "start_time": "2022-02-28T03:51:06.653Z"
   },
   {
    "duration": 28,
    "start_time": "2022-02-28T03:51:06.892Z"
   },
   {
    "duration": 18,
    "start_time": "2022-02-28T03:51:06.922Z"
   },
   {
    "duration": 303,
    "start_time": "2022-02-28T03:51:06.942Z"
   },
   {
    "duration": 241,
    "start_time": "2022-02-28T03:51:07.246Z"
   },
   {
    "duration": 521,
    "start_time": "2022-02-28T03:51:07.488Z"
   },
   {
    "duration": 277,
    "start_time": "2022-02-28T03:51:08.011Z"
   },
   {
    "duration": 292,
    "start_time": "2022-02-28T03:51:08.289Z"
   },
   {
    "duration": 97,
    "start_time": "2022-02-28T03:51:08.582Z"
   },
   {
    "duration": 285,
    "start_time": "2022-02-28T03:51:08.395Z"
   },
   {
    "duration": 281,
    "start_time": "2022-02-28T03:51:08.400Z"
   },
   {
    "duration": 277,
    "start_time": "2022-02-28T03:51:08.405Z"
   },
   {
    "duration": 271,
    "start_time": "2022-02-28T03:51:08.412Z"
   },
   {
    "duration": 267,
    "start_time": "2022-02-28T03:51:08.417Z"
   },
   {
    "duration": 262,
    "start_time": "2022-02-28T03:51:08.423Z"
   },
   {
    "duration": 258,
    "start_time": "2022-02-28T03:51:08.428Z"
   },
   {
    "duration": 253,
    "start_time": "2022-02-28T03:51:08.434Z"
   },
   {
    "duration": 248,
    "start_time": "2022-02-28T03:51:08.439Z"
   },
   {
    "duration": 244,
    "start_time": "2022-02-28T03:51:08.445Z"
   },
   {
    "duration": 531,
    "start_time": "2022-02-28T03:51:56.161Z"
   },
   {
    "duration": 342,
    "start_time": "2022-02-28T03:51:56.693Z"
   },
   {
    "duration": 306,
    "start_time": "2022-02-28T03:51:57.037Z"
   },
   {
    "duration": 515,
    "start_time": "2022-02-28T03:51:57.345Z"
   },
   {
    "duration": 181,
    "start_time": "2022-02-28T03:51:57.862Z"
   },
   {
    "duration": 477,
    "start_time": "2022-02-28T03:51:58.046Z"
   },
   {
    "duration": 5,
    "start_time": "2022-02-28T03:51:58.524Z"
   },
   {
    "duration": 399,
    "start_time": "2022-02-28T03:51:58.531Z"
   },
   {
    "duration": 381,
    "start_time": "2022-02-28T03:51:58.931Z"
   },
   {
    "duration": 429,
    "start_time": "2022-02-28T03:51:59.313Z"
   },
   {
    "duration": 2,
    "start_time": "2022-02-28T03:53:55.341Z"
   },
   {
    "duration": 45,
    "start_time": "2022-02-28T03:53:55.346Z"
   },
   {
    "duration": 10,
    "start_time": "2022-02-28T03:53:55.393Z"
   },
   {
    "duration": 30,
    "start_time": "2022-02-28T03:53:55.405Z"
   },
   {
    "duration": 13,
    "start_time": "2022-02-28T03:53:55.437Z"
   },
   {
    "duration": 4,
    "start_time": "2022-02-28T03:53:55.452Z"
   },
   {
    "duration": 50,
    "start_time": "2022-02-28T03:53:55.458Z"
   },
   {
    "duration": 8,
    "start_time": "2022-02-28T03:53:55.510Z"
   },
   {
    "duration": 13,
    "start_time": "2022-02-28T03:53:55.520Z"
   },
   {
    "duration": 313,
    "start_time": "2022-02-28T03:53:55.535Z"
   },
   {
    "duration": 598,
    "start_time": "2022-02-28T03:53:55.849Z"
   },
   {
    "duration": 7,
    "start_time": "2022-02-28T03:53:56.448Z"
   },
   {
    "duration": 229,
    "start_time": "2022-02-28T03:53:56.456Z"
   },
   {
    "duration": 32,
    "start_time": "2022-02-28T03:53:56.686Z"
   },
   {
    "duration": 19,
    "start_time": "2022-02-28T03:53:56.719Z"
   },
   {
    "duration": 310,
    "start_time": "2022-02-28T03:53:56.739Z"
   },
   {
    "duration": 250,
    "start_time": "2022-02-28T03:53:57.051Z"
   },
   {
    "duration": 479,
    "start_time": "2022-02-28T03:53:57.303Z"
   },
   {
    "duration": 291,
    "start_time": "2022-02-28T03:53:57.784Z"
   },
   {
    "duration": 298,
    "start_time": "2022-02-28T03:53:58.077Z"
   },
   {
    "duration": 511,
    "start_time": "2022-02-28T03:53:58.377Z"
   },
   {
    "duration": 337,
    "start_time": "2022-02-28T03:53:58.890Z"
   },
   {
    "duration": 322,
    "start_time": "2022-02-28T03:53:59.228Z"
   },
   {
    "duration": 533,
    "start_time": "2022-02-28T03:53:59.552Z"
   },
   {
    "duration": 278,
    "start_time": "2022-02-28T03:54:00.087Z"
   },
   {
    "duration": 406,
    "start_time": "2022-02-28T03:54:00.367Z"
   },
   {
    "duration": 5,
    "start_time": "2022-02-28T03:54:00.775Z"
   },
   {
    "duration": 426,
    "start_time": "2022-02-28T03:54:00.781Z"
   },
   {
    "duration": 384,
    "start_time": "2022-02-28T03:54:01.209Z"
   },
   {
    "duration": 14,
    "start_time": "2022-02-28T03:54:01.594Z"
   },
   {
    "duration": 11,
    "start_time": "2022-02-28T03:57:14.762Z"
   },
   {
    "duration": 11,
    "start_time": "2022-02-28T03:57:44.225Z"
   },
   {
    "duration": 11,
    "start_time": "2022-02-28T03:57:54.348Z"
   },
   {
    "duration": 12,
    "start_time": "2022-02-28T03:58:13.464Z"
   },
   {
    "duration": 11,
    "start_time": "2022-02-28T03:58:22.422Z"
   },
   {
    "duration": 10,
    "start_time": "2022-02-28T03:58:31.869Z"
   },
   {
    "duration": 9,
    "start_time": "2022-02-28T04:01:02.015Z"
   },
   {
    "duration": 5,
    "start_time": "2022-02-28T04:03:03.730Z"
   },
   {
    "duration": 12,
    "start_time": "2022-02-28T04:10:49.052Z"
   },
   {
    "duration": 2,
    "start_time": "2022-02-28T04:13:06.424Z"
   },
   {
    "duration": 281,
    "start_time": "2022-02-28T04:13:21.271Z"
   },
   {
    "duration": 283,
    "start_time": "2022-02-28T04:13:24.010Z"
   },
   {
    "duration": 9,
    "start_time": "2022-02-28T04:13:36.082Z"
   },
   {
    "duration": 4,
    "start_time": "2022-02-28T04:13:37.591Z"
   },
   {
    "duration": 10,
    "start_time": "2022-02-28T04:13:41.974Z"
   },
   {
    "duration": 326,
    "start_time": "2022-02-28T05:59:46.426Z"
   },
   {
    "duration": 1095,
    "start_time": "2022-02-28T05:59:52.503Z"
   },
   {
    "duration": 56,
    "start_time": "2022-02-28T05:59:53.601Z"
   },
   {
    "duration": 9,
    "start_time": "2022-02-28T05:59:53.659Z"
   },
   {
    "duration": 30,
    "start_time": "2022-02-28T05:59:53.670Z"
   },
   {
    "duration": 12,
    "start_time": "2022-02-28T05:59:53.701Z"
   },
   {
    "duration": 7,
    "start_time": "2022-02-28T05:59:53.714Z"
   },
   {
    "duration": 28,
    "start_time": "2022-02-28T05:59:53.722Z"
   },
   {
    "duration": 11,
    "start_time": "2022-02-28T05:59:53.751Z"
   },
   {
    "duration": 13,
    "start_time": "2022-02-28T05:59:53.765Z"
   },
   {
    "duration": 308,
    "start_time": "2022-02-28T05:59:53.780Z"
   },
   {
    "duration": 534,
    "start_time": "2022-02-28T05:59:54.090Z"
   },
   {
    "duration": 10,
    "start_time": "2022-02-28T05:59:54.626Z"
   },
   {
    "duration": 243,
    "start_time": "2022-02-28T05:59:54.638Z"
   },
   {
    "duration": 34,
    "start_time": "2022-02-28T05:59:54.883Z"
   },
   {
    "duration": 20,
    "start_time": "2022-02-28T05:59:54.919Z"
   },
   {
    "duration": 310,
    "start_time": "2022-02-28T05:59:54.941Z"
   },
   {
    "duration": 237,
    "start_time": "2022-02-28T05:59:55.253Z"
   },
   {
    "duration": 592,
    "start_time": "2022-02-28T05:59:55.491Z"
   },
   {
    "duration": 289,
    "start_time": "2022-02-28T05:59:56.085Z"
   },
   {
    "duration": 300,
    "start_time": "2022-02-28T05:59:56.376Z"
   },
   {
    "duration": 529,
    "start_time": "2022-02-28T05:59:56.677Z"
   },
   {
    "duration": 333,
    "start_time": "2022-02-28T05:59:57.207Z"
   },
   {
    "duration": 323,
    "start_time": "2022-02-28T05:59:57.542Z"
   },
   {
    "duration": 544,
    "start_time": "2022-02-28T05:59:57.867Z"
   },
   {
    "duration": 176,
    "start_time": "2022-02-28T05:59:58.413Z"
   },
   {
    "duration": 472,
    "start_time": "2022-02-28T05:59:58.590Z"
   },
   {
    "duration": 5,
    "start_time": "2022-02-28T05:59:59.064Z"
   },
   {
    "duration": 451,
    "start_time": "2022-02-28T05:59:59.071Z"
   },
   {
    "duration": 386,
    "start_time": "2022-02-28T05:59:59.524Z"
   },
   {
    "duration": 10,
    "start_time": "2022-02-28T05:59:59.911Z"
   },
   {
    "duration": 4,
    "start_time": "2022-02-28T05:59:59.922Z"
   },
   {
    "duration": 10,
    "start_time": "2022-02-28T05:59:59.927Z"
   },
   {
    "duration": 1104,
    "start_time": "2022-02-28T06:19:31.021Z"
   },
   {
    "duration": 46,
    "start_time": "2022-02-28T06:19:32.127Z"
   },
   {
    "duration": 9,
    "start_time": "2022-02-28T06:19:32.175Z"
   },
   {
    "duration": 37,
    "start_time": "2022-02-28T06:19:32.186Z"
   },
   {
    "duration": 13,
    "start_time": "2022-02-28T06:19:32.225Z"
   },
   {
    "duration": 5,
    "start_time": "2022-02-28T06:19:32.239Z"
   },
   {
    "duration": 17,
    "start_time": "2022-02-28T06:19:32.245Z"
   },
   {
    "duration": 8,
    "start_time": "2022-02-28T06:19:32.263Z"
   },
   {
    "duration": 40,
    "start_time": "2022-02-28T06:19:32.274Z"
   },
   {
    "duration": 314,
    "start_time": "2022-02-28T06:19:32.316Z"
   },
   {
    "duration": 537,
    "start_time": "2022-02-28T06:19:32.631Z"
   },
   {
    "duration": 7,
    "start_time": "2022-02-28T06:19:33.170Z"
   },
   {
    "duration": 237,
    "start_time": "2022-02-28T06:19:33.179Z"
   },
   {
    "duration": 24,
    "start_time": "2022-02-28T06:19:33.418Z"
   },
   {
    "duration": 19,
    "start_time": "2022-02-28T06:19:33.443Z"
   },
   {
    "duration": 317,
    "start_time": "2022-02-28T06:19:33.464Z"
   },
   {
    "duration": 244,
    "start_time": "2022-02-28T06:19:33.782Z"
   },
   {
    "duration": 524,
    "start_time": "2022-02-28T06:19:34.027Z"
   },
   {
    "duration": 266,
    "start_time": "2022-02-28T06:19:34.553Z"
   },
   {
    "duration": 273,
    "start_time": "2022-02-28T06:19:34.820Z"
   },
   {
    "duration": 508,
    "start_time": "2022-02-28T06:19:35.095Z"
   },
   {
    "duration": 336,
    "start_time": "2022-02-28T06:19:35.604Z"
   },
   {
    "duration": 322,
    "start_time": "2022-02-28T06:19:35.941Z"
   },
   {
    "duration": 556,
    "start_time": "2022-02-28T06:19:36.265Z"
   },
   {
    "duration": 180,
    "start_time": "2022-02-28T06:19:36.823Z"
   },
   {
    "duration": 469,
    "start_time": "2022-02-28T06:19:37.004Z"
   },
   {
    "duration": 5,
    "start_time": "2022-02-28T06:19:37.475Z"
   },
   {
    "duration": 411,
    "start_time": "2022-02-28T06:19:37.481Z"
   },
   {
    "duration": 390,
    "start_time": "2022-02-28T06:19:37.893Z"
   },
   {
    "duration": 9,
    "start_time": "2022-02-28T06:19:38.284Z"
   },
   {
    "duration": 4,
    "start_time": "2022-02-28T06:19:38.301Z"
   },
   {
    "duration": 10,
    "start_time": "2022-02-28T06:19:38.306Z"
   },
   {
    "duration": 324,
    "start_time": "2022-03-08T07:50:19.995Z"
   },
   {
    "duration": 1487,
    "start_time": "2022-03-08T07:50:29.265Z"
   },
   {
    "duration": 63,
    "start_time": "2022-03-08T07:50:30.755Z"
   },
   {
    "duration": 15,
    "start_time": "2022-03-08T07:50:30.821Z"
   },
   {
    "duration": 100,
    "start_time": "2022-03-08T07:50:30.839Z"
   },
   {
    "duration": 170,
    "start_time": "2022-03-08T07:50:30.942Z"
   },
   {
    "duration": 62,
    "start_time": "2022-03-08T07:50:31.115Z"
   },
   {
    "duration": 16,
    "start_time": "2022-03-08T07:50:31.180Z"
   },
   {
    "duration": 57,
    "start_time": "2022-03-08T07:50:31.202Z"
   },
   {
    "duration": 19,
    "start_time": "2022-03-08T07:50:31.276Z"
   },
   {
    "duration": 40,
    "start_time": "2022-03-08T07:50:31.298Z"
   },
   {
    "duration": 1025,
    "start_time": "2022-03-08T07:50:31.341Z"
   },
   {
    "duration": 1702,
    "start_time": "2022-03-08T07:50:32.373Z"
   },
   {
    "duration": 17,
    "start_time": "2022-03-08T07:50:34.078Z"
   },
   {
    "duration": 699,
    "start_time": "2022-03-08T07:50:34.099Z"
   },
   {
    "duration": 73,
    "start_time": "2022-03-08T07:50:34.801Z"
   },
   {
    "duration": 57,
    "start_time": "2022-03-08T07:50:34.877Z"
   },
   {
    "duration": 931,
    "start_time": "2022-03-08T07:50:34.937Z"
   },
   {
    "duration": 648,
    "start_time": "2022-03-08T07:50:35.872Z"
   },
   {
    "duration": 985,
    "start_time": "2022-03-08T07:50:36.523Z"
   },
   {
    "duration": 432,
    "start_time": "2022-03-08T07:50:37.511Z"
   },
   {
    "duration": 453,
    "start_time": "2022-03-08T07:50:37.948Z"
   },
   {
    "duration": 885,
    "start_time": "2022-03-08T07:50:38.404Z"
   },
   {
    "duration": 508,
    "start_time": "2022-03-08T07:50:39.296Z"
   },
   {
    "duration": 531,
    "start_time": "2022-03-08T07:50:39.808Z"
   },
   {
    "duration": 823,
    "start_time": "2022-03-08T07:50:40.342Z"
   },
   {
    "duration": 327,
    "start_time": "2022-03-08T07:50:41.168Z"
   },
   {
    "duration": 854,
    "start_time": "2022-03-08T07:50:41.498Z"
   },
   {
    "duration": 18,
    "start_time": "2022-03-08T07:50:42.356Z"
   },
   {
    "duration": 1196,
    "start_time": "2022-03-08T07:50:42.377Z"
   },
   {
    "duration": 1033,
    "start_time": "2022-03-08T07:50:43.576Z"
   },
   {
    "duration": 15,
    "start_time": "2022-03-08T07:50:44.611Z"
   },
   {
    "duration": 11,
    "start_time": "2022-03-08T07:50:44.628Z"
   },
   {
    "duration": 41,
    "start_time": "2022-03-08T07:50:44.641Z"
   },
   {
    "duration": 79,
    "start_time": "2022-03-08T07:51:15.197Z"
   },
   {
    "duration": 36,
    "start_time": "2022-03-08T07:51:48.952Z"
   },
   {
    "duration": 318,
    "start_time": "2022-03-08T08:08:58.596Z"
   },
   {
    "duration": 338,
    "start_time": "2022-03-08T08:09:17.840Z"
   },
   {
    "duration": 1133,
    "start_time": "2022-03-08T14:58:49.624Z"
   },
   {
    "duration": 62,
    "start_time": "2022-03-08T14:58:50.759Z"
   },
   {
    "duration": 11,
    "start_time": "2022-03-08T14:58:50.824Z"
   },
   {
    "duration": 3,
    "start_time": "2022-03-08T15:10:51.004Z"
   },
   {
    "duration": 48,
    "start_time": "2022-03-08T15:10:51.012Z"
   },
   {
    "duration": 11,
    "start_time": "2022-03-08T15:10:51.063Z"
   },
   {
    "duration": 52,
    "start_time": "2022-03-08T15:10:58.382Z"
   },
   {
    "duration": 9,
    "start_time": "2022-03-08T15:11:48.510Z"
   },
   {
    "duration": 3,
    "start_time": "2022-03-08T15:12:08.513Z"
   },
   {
    "duration": 53,
    "start_time": "2022-03-08T15:12:08.518Z"
   },
   {
    "duration": 11,
    "start_time": "2022-03-08T15:12:08.573Z"
   },
   {
    "duration": 52,
    "start_time": "2022-03-08T15:12:12.441Z"
   },
   {
    "duration": 57,
    "start_time": "2022-03-08T15:14:18.782Z"
   },
   {
    "duration": 55,
    "start_time": "2022-03-08T15:14:22.509Z"
   },
   {
    "duration": 57,
    "start_time": "2022-03-08T15:14:47.481Z"
   },
   {
    "duration": 78,
    "start_time": "2022-03-08T15:16:01.474Z"
   },
   {
    "duration": 359,
    "start_time": "2022-03-08T15:29:38.548Z"
   },
   {
    "duration": 3,
    "start_time": "2022-03-08T15:29:43.820Z"
   },
   {
    "duration": 49,
    "start_time": "2022-03-08T15:29:43.827Z"
   },
   {
    "duration": 9,
    "start_time": "2022-03-08T15:29:43.878Z"
   },
   {
    "duration": 56,
    "start_time": "2022-03-08T15:29:43.889Z"
   },
   {
    "duration": 24,
    "start_time": "2022-03-08T15:29:44.172Z"
   },
   {
    "duration": 5,
    "start_time": "2022-03-08T15:29:44.379Z"
   },
   {
    "duration": 21,
    "start_time": "2022-03-08T15:29:44.450Z"
   },
   {
    "duration": 10,
    "start_time": "2022-03-08T15:29:44.514Z"
   },
   {
    "duration": 19,
    "start_time": "2022-03-08T15:29:44.647Z"
   },
   {
    "duration": 404,
    "start_time": "2022-03-08T15:29:44.791Z"
   },
   {
    "duration": 700,
    "start_time": "2022-03-08T15:29:45.197Z"
   },
   {
    "duration": 8,
    "start_time": "2022-03-08T15:29:45.899Z"
   },
   {
    "duration": 326,
    "start_time": "2022-03-08T15:29:45.909Z"
   },
   {
    "duration": 44,
    "start_time": "2022-03-08T15:29:46.237Z"
   },
   {
    "duration": 23,
    "start_time": "2022-03-08T15:29:46.282Z"
   },
   {
    "duration": 404,
    "start_time": "2022-03-08T15:29:46.307Z"
   },
   {
    "duration": 329,
    "start_time": "2022-03-08T15:29:46.714Z"
   },
   {
    "duration": 797,
    "start_time": "2022-03-08T15:29:47.045Z"
   },
   {
    "duration": 272,
    "start_time": "2022-03-08T15:30:01.913Z"
   },
   {
    "duration": 3,
    "start_time": "2022-03-08T15:34:59.880Z"
   },
   {
    "duration": 54,
    "start_time": "2022-03-08T15:34:59.887Z"
   },
   {
    "duration": 10,
    "start_time": "2022-03-08T15:34:59.943Z"
   },
   {
    "duration": 67,
    "start_time": "2022-03-08T15:34:59.955Z"
   },
   {
    "duration": 17,
    "start_time": "2022-03-08T15:35:00.024Z"
   },
   {
    "duration": 34,
    "start_time": "2022-03-08T15:35:00.043Z"
   },
   {
    "duration": 27,
    "start_time": "2022-03-08T15:35:00.079Z"
   },
   {
    "duration": 9,
    "start_time": "2022-03-08T15:35:00.108Z"
   },
   {
    "duration": 15,
    "start_time": "2022-03-08T15:35:05.759Z"
   },
   {
    "duration": 9,
    "start_time": "2022-03-08T15:35:14.502Z"
   },
   {
    "duration": 31,
    "start_time": "2022-03-08T15:45:41.402Z"
   },
   {
    "duration": 3,
    "start_time": "2022-03-08T15:45:51.524Z"
   },
   {
    "duration": 60,
    "start_time": "2022-03-08T15:45:51.530Z"
   },
   {
    "duration": 10,
    "start_time": "2022-03-08T15:45:51.592Z"
   },
   {
    "duration": 81,
    "start_time": "2022-03-08T15:45:51.604Z"
   },
   {
    "duration": 15,
    "start_time": "2022-03-08T15:45:51.687Z"
   },
   {
    "duration": 7,
    "start_time": "2022-03-08T15:45:51.704Z"
   },
   {
    "duration": 22,
    "start_time": "2022-03-08T15:45:51.712Z"
   },
   {
    "duration": 9,
    "start_time": "2022-03-08T15:45:51.735Z"
   },
   {
    "duration": 38,
    "start_time": "2022-03-08T15:45:51.746Z"
   },
   {
    "duration": 32,
    "start_time": "2022-03-08T15:45:58.277Z"
   },
   {
    "duration": 31,
    "start_time": "2022-03-08T15:46:30.447Z"
   },
   {
    "duration": 4,
    "start_time": "2022-03-08T15:55:20.735Z"
   },
   {
    "duration": 55,
    "start_time": "2022-03-08T15:55:20.742Z"
   },
   {
    "duration": 10,
    "start_time": "2022-03-08T15:55:20.800Z"
   },
   {
    "duration": 94,
    "start_time": "2022-03-08T15:55:20.812Z"
   },
   {
    "duration": 15,
    "start_time": "2022-03-08T15:55:20.908Z"
   },
   {
    "duration": 16,
    "start_time": "2022-03-08T15:55:20.926Z"
   },
   {
    "duration": 43,
    "start_time": "2022-03-08T15:55:20.945Z"
   },
   {
    "duration": 10,
    "start_time": "2022-03-08T15:55:20.990Z"
   },
   {
    "duration": 9,
    "start_time": "2022-03-08T15:55:21.002Z"
   },
   {
    "duration": 15,
    "start_time": "2022-03-08T15:55:27.438Z"
   },
   {
    "duration": 17,
    "start_time": "2022-03-08T16:03:40.361Z"
   },
   {
    "duration": 3,
    "start_time": "2022-03-08T16:03:44.492Z"
   },
   {
    "duration": 51,
    "start_time": "2022-03-08T16:03:44.499Z"
   },
   {
    "duration": 11,
    "start_time": "2022-03-08T16:03:44.551Z"
   },
   {
    "duration": 59,
    "start_time": "2022-03-08T16:03:44.564Z"
   },
   {
    "duration": 14,
    "start_time": "2022-03-08T16:03:44.625Z"
   },
   {
    "duration": 5,
    "start_time": "2022-03-08T16:03:44.641Z"
   },
   {
    "duration": 21,
    "start_time": "2022-03-08T16:03:44.677Z"
   },
   {
    "duration": 8,
    "start_time": "2022-03-08T16:03:44.700Z"
   },
   {
    "duration": 8,
    "start_time": "2022-03-08T16:03:44.710Z"
   },
   {
    "duration": 14,
    "start_time": "2022-03-08T16:03:44.764Z"
   },
   {
    "duration": 24,
    "start_time": "2022-03-08T16:04:27.374Z"
   },
   {
    "duration": 442,
    "start_time": "2022-03-08T16:09:58.400Z"
   },
   {
    "duration": 656,
    "start_time": "2022-03-08T16:10:12.503Z"
   },
   {
    "duration": 637,
    "start_time": "2022-03-08T16:10:42.326Z"
   },
   {
    "duration": 747,
    "start_time": "2022-03-08T16:11:43.594Z"
   },
   {
    "duration": 659,
    "start_time": "2022-03-08T16:12:47.070Z"
   },
   {
    "duration": 698,
    "start_time": "2022-03-08T16:13:00.974Z"
   },
   {
    "duration": 414,
    "start_time": "2022-03-08T16:13:13.638Z"
   },
   {
    "duration": 426,
    "start_time": "2022-03-08T16:13:33.877Z"
   },
   {
    "duration": 423,
    "start_time": "2022-03-08T16:14:23.367Z"
   },
   {
    "duration": 524,
    "start_time": "2022-03-08T16:14:37.248Z"
   },
   {
    "duration": 420,
    "start_time": "2022-03-08T16:14:44.469Z"
   },
   {
    "duration": 400,
    "start_time": "2022-03-08T16:20:12.783Z"
   },
   {
    "duration": 670,
    "start_time": "2022-03-08T16:22:06.551Z"
   },
   {
    "duration": 653,
    "start_time": "2022-03-08T16:22:22.503Z"
   },
   {
    "duration": 975,
    "start_time": "2022-03-08T16:22:40.047Z"
   },
   {
    "duration": 818,
    "start_time": "2022-03-08T16:23:04.865Z"
   },
   {
    "duration": 3,
    "start_time": "2022-03-08T16:24:10.974Z"
   },
   {
    "duration": 54,
    "start_time": "2022-03-08T16:24:10.979Z"
   },
   {
    "duration": 10,
    "start_time": "2022-03-08T16:24:11.035Z"
   },
   {
    "duration": 75,
    "start_time": "2022-03-08T16:24:11.047Z"
   },
   {
    "duration": 15,
    "start_time": "2022-03-08T16:24:11.124Z"
   },
   {
    "duration": 36,
    "start_time": "2022-03-08T16:24:11.141Z"
   },
   {
    "duration": 21,
    "start_time": "2022-03-08T16:24:11.179Z"
   },
   {
    "duration": 14,
    "start_time": "2022-03-08T16:24:11.202Z"
   },
   {
    "duration": 9,
    "start_time": "2022-03-08T16:24:11.218Z"
   },
   {
    "duration": 18,
    "start_time": "2022-03-08T16:24:11.229Z"
   },
   {
    "duration": 19,
    "start_time": "2022-03-08T16:24:11.277Z"
   },
   {
    "duration": 411,
    "start_time": "2022-03-08T16:24:11.298Z"
   },
   {
    "duration": 646,
    "start_time": "2022-03-08T16:24:18.523Z"
   },
   {
    "duration": 267,
    "start_time": "2022-03-08T16:24:42.471Z"
   },
   {
    "duration": 656,
    "start_time": "2022-03-08T16:25:04.936Z"
   },
   {
    "duration": 655,
    "start_time": "2022-03-08T16:25:37.517Z"
   },
   {
    "duration": 6349,
    "start_time": "2022-03-08T16:26:31.554Z"
   },
   {
    "duration": 718,
    "start_time": "2022-03-08T16:27:15.406Z"
   },
   {
    "duration": 758,
    "start_time": "2022-03-08T16:27:27.491Z"
   },
   {
    "duration": 668,
    "start_time": "2022-03-08T16:27:42.029Z"
   },
   {
    "duration": 401,
    "start_time": "2022-03-08T16:28:49.875Z"
   },
   {
    "duration": 670,
    "start_time": "2022-03-08T16:29:42.779Z"
   },
   {
    "duration": 283,
    "start_time": "2022-03-08T16:56:33.674Z"
   },
   {
    "duration": 418,
    "start_time": "2022-03-08T16:57:08.491Z"
   },
   {
    "duration": 412,
    "start_time": "2022-03-08T16:57:25.197Z"
   },
   {
    "duration": 425,
    "start_time": "2022-03-08T16:58:23.532Z"
   },
   {
    "duration": 305,
    "start_time": "2022-03-08T16:58:48.015Z"
   },
   {
    "duration": 289,
    "start_time": "2022-03-08T16:58:56.205Z"
   },
   {
    "duration": 380,
    "start_time": "2022-03-08T17:01:31.322Z"
   },
   {
    "duration": 393,
    "start_time": "2022-03-08T17:06:16.990Z"
   },
   {
    "duration": 3,
    "start_time": "2022-03-08T18:55:33.681Z"
   },
   {
    "duration": 56,
    "start_time": "2022-03-08T18:55:33.688Z"
   },
   {
    "duration": 10,
    "start_time": "2022-03-08T18:55:33.746Z"
   },
   {
    "duration": 75,
    "start_time": "2022-03-08T18:55:33.758Z"
   },
   {
    "duration": 15,
    "start_time": "2022-03-08T18:55:33.835Z"
   },
   {
    "duration": 35,
    "start_time": "2022-03-08T18:55:33.852Z"
   },
   {
    "duration": 21,
    "start_time": "2022-03-08T18:55:33.889Z"
   },
   {
    "duration": 9,
    "start_time": "2022-03-08T18:55:33.912Z"
   },
   {
    "duration": 8,
    "start_time": "2022-03-08T18:55:33.923Z"
   },
   {
    "duration": 14,
    "start_time": "2022-03-08T18:55:33.933Z"
   },
   {
    "duration": 46,
    "start_time": "2022-03-08T18:55:33.948Z"
   },
   {
    "duration": 412,
    "start_time": "2022-03-08T18:55:33.995Z"
   },
   {
    "duration": 663,
    "start_time": "2022-03-08T18:55:34.409Z"
   },
   {
    "duration": 8,
    "start_time": "2022-03-08T18:55:35.077Z"
   },
   {
    "duration": 312,
    "start_time": "2022-03-08T18:55:35.087Z"
   },
   {
    "duration": 29,
    "start_time": "2022-03-08T18:55:35.400Z"
   },
   {
    "duration": 25,
    "start_time": "2022-03-08T18:56:01.173Z"
   },
   {
    "duration": 344,
    "start_time": "2022-03-08T18:56:29.821Z"
   },
   {
    "duration": 25,
    "start_time": "2022-03-08T18:57:17.484Z"
   },
   {
    "duration": 459,
    "start_time": "2022-03-08T18:57:26.130Z"
   },
   {
    "duration": 275,
    "start_time": "2022-03-08T18:58:38.334Z"
   },
   {
    "duration": 335,
    "start_time": "2022-03-08T18:58:48.153Z"
   },
   {
    "duration": 365,
    "start_time": "2022-03-08T19:00:01.812Z"
   },
   {
    "duration": 336,
    "start_time": "2022-03-08T19:01:28.752Z"
   },
   {
    "duration": 402,
    "start_time": "2022-03-08T19:09:11.160Z"
   },
   {
    "duration": 101,
    "start_time": "2022-03-08T19:09:17.060Z"
   },
   {
    "duration": 26,
    "start_time": "2022-03-08T19:14:01.396Z"
   },
   {
    "duration": 340,
    "start_time": "2022-03-08T19:14:09.384Z"
   },
   {
    "duration": 287,
    "start_time": "2022-03-08T19:18:56.528Z"
   },
   {
    "duration": 29,
    "start_time": "2022-03-08T19:19:12.494Z"
   },
   {
    "duration": 332,
    "start_time": "2022-03-08T19:22:53.591Z"
   },
   {
    "duration": 334,
    "start_time": "2022-03-08T19:24:37.146Z"
   },
   {
    "duration": 336,
    "start_time": "2022-03-08T19:25:36.461Z"
   },
   {
    "duration": 25,
    "start_time": "2022-03-08T19:25:51.481Z"
   },
   {
    "duration": 336,
    "start_time": "2022-03-08T19:25:54.900Z"
   },
   {
    "duration": 432,
    "start_time": "2022-03-08T19:25:58.624Z"
   },
   {
    "duration": 339,
    "start_time": "2022-03-08T19:26:26.029Z"
   },
   {
    "duration": 330,
    "start_time": "2022-03-08T19:27:16.877Z"
   },
   {
    "duration": 330,
    "start_time": "2022-03-08T19:27:22.254Z"
   },
   {
    "duration": 943,
    "start_time": "2022-03-08T19:33:46.420Z"
   },
   {
    "duration": 272,
    "start_time": "2022-03-08T19:33:54.722Z"
   },
   {
    "duration": 2,
    "start_time": "2022-03-08T19:34:08.614Z"
   },
   {
    "duration": 296,
    "start_time": "2022-03-08T19:34:11.501Z"
   },
   {
    "duration": 196,
    "start_time": "2022-03-08T19:34:25.632Z"
   },
   {
    "duration": 191,
    "start_time": "2022-03-08T19:35:50.248Z"
   },
   {
    "duration": 337,
    "start_time": "2022-03-08T19:37:41.696Z"
   },
   {
    "duration": 445,
    "start_time": "2022-03-08T19:38:18.221Z"
   },
   {
    "duration": 324,
    "start_time": "2022-03-08T19:44:08.349Z"
   },
   {
    "duration": 245,
    "start_time": "2022-03-08T19:44:17.394Z"
   },
   {
    "duration": 3,
    "start_time": "2022-03-08T19:44:25.107Z"
   },
   {
    "duration": 205,
    "start_time": "2022-03-08T19:44:27.348Z"
   },
   {
    "duration": 205,
    "start_time": "2022-03-08T19:45:11.150Z"
   },
   {
    "duration": 192,
    "start_time": "2022-03-08T19:45:31.328Z"
   },
   {
    "duration": 204,
    "start_time": "2022-03-08T19:47:01.062Z"
   },
   {
    "duration": 223,
    "start_time": "2022-03-08T19:47:10.663Z"
   },
   {
    "duration": 710,
    "start_time": "2022-03-09T03:35:02.638Z"
   },
   {
    "duration": 1108,
    "start_time": "2022-03-09T03:35:16.738Z"
   },
   {
    "duration": 47,
    "start_time": "2022-03-09T03:35:17.847Z"
   },
   {
    "duration": 8,
    "start_time": "2022-03-09T03:35:17.896Z"
   },
   {
    "duration": 44,
    "start_time": "2022-03-09T03:35:17.906Z"
   },
   {
    "duration": 11,
    "start_time": "2022-03-09T03:35:17.951Z"
   },
   {
    "duration": 5,
    "start_time": "2022-03-09T03:35:17.963Z"
   },
   {
    "duration": 16,
    "start_time": "2022-03-09T03:35:17.969Z"
   },
   {
    "duration": 7,
    "start_time": "2022-03-09T03:35:17.987Z"
   },
   {
    "duration": 15,
    "start_time": "2022-03-09T03:35:17.995Z"
   },
   {
    "duration": 13,
    "start_time": "2022-03-09T03:35:18.011Z"
   },
   {
    "duration": 13,
    "start_time": "2022-03-09T03:35:18.025Z"
   },
   {
    "duration": 289,
    "start_time": "2022-03-09T03:35:18.039Z"
   },
   {
    "duration": 524,
    "start_time": "2022-03-09T03:35:18.329Z"
   },
   {
    "duration": 7,
    "start_time": "2022-03-09T03:35:18.854Z"
   },
   {
    "duration": 221,
    "start_time": "2022-03-09T03:35:18.862Z"
   },
   {
    "duration": 26,
    "start_time": "2022-03-09T03:35:19.084Z"
   },
   {
    "duration": 19,
    "start_time": "2022-03-09T03:35:19.111Z"
   },
   {
    "duration": 308,
    "start_time": "2022-03-09T03:35:19.131Z"
   },
   {
    "duration": 348,
    "start_time": "2022-03-09T03:35:19.441Z"
   },
   {
    "duration": 2,
    "start_time": "2022-03-09T03:35:19.791Z"
   },
   {
    "duration": 237,
    "start_time": "2022-03-09T03:36:04.459Z"
   },
   {
    "duration": 159,
    "start_time": "2022-03-09T03:36:30.482Z"
   },
   {
    "duration": 272,
    "start_time": "2022-03-09T03:41:34.075Z"
   },
   {
    "duration": 272,
    "start_time": "2022-03-09T03:44:36.908Z"
   },
   {
    "duration": 465,
    "start_time": "2022-03-09T03:46:00.049Z"
   },
   {
    "duration": 497,
    "start_time": "2022-03-09T03:48:07.655Z"
   },
   {
    "duration": 4,
    "start_time": "2022-03-09T03:49:53.773Z"
   },
   {
    "duration": 3,
    "start_time": "2022-03-09T03:49:59.892Z"
   },
   {
    "duration": 45,
    "start_time": "2022-03-09T03:49:59.898Z"
   },
   {
    "duration": 8,
    "start_time": "2022-03-09T03:49:59.944Z"
   },
   {
    "duration": 58,
    "start_time": "2022-03-09T03:49:59.954Z"
   },
   {
    "duration": 12,
    "start_time": "2022-03-09T03:50:00.013Z"
   },
   {
    "duration": 8,
    "start_time": "2022-03-09T03:50:00.026Z"
   },
   {
    "duration": 17,
    "start_time": "2022-03-09T03:50:00.035Z"
   },
   {
    "duration": 7,
    "start_time": "2022-03-09T03:50:00.054Z"
   },
   {
    "duration": 6,
    "start_time": "2022-03-09T03:50:00.063Z"
   },
   {
    "duration": 44,
    "start_time": "2022-03-09T03:50:00.071Z"
   },
   {
    "duration": 13,
    "start_time": "2022-03-09T03:50:00.116Z"
   },
   {
    "duration": 306,
    "start_time": "2022-03-09T03:50:00.130Z"
   },
   {
    "duration": 605,
    "start_time": "2022-03-09T03:50:00.438Z"
   },
   {
    "duration": 10,
    "start_time": "2022-03-09T03:50:01.044Z"
   },
   {
    "duration": 250,
    "start_time": "2022-03-09T03:50:01.055Z"
   },
   {
    "duration": 27,
    "start_time": "2022-03-09T03:50:01.307Z"
   },
   {
    "duration": 20,
    "start_time": "2022-03-09T03:50:01.336Z"
   },
   {
    "duration": 392,
    "start_time": "2022-03-09T03:50:01.358Z"
   },
   {
    "duration": 262,
    "start_time": "2022-03-09T03:50:01.752Z"
   },
   {
    "duration": 2,
    "start_time": "2022-03-09T03:50:02.016Z"
   },
   {
    "duration": 174,
    "start_time": "2022-03-09T03:50:02.020Z"
   },
   {
    "duration": 301,
    "start_time": "2022-03-09T03:50:02.206Z"
   },
   {
    "duration": 301,
    "start_time": "2022-03-09T03:50:02.509Z"
   },
   {
    "duration": 482,
    "start_time": "2022-03-09T03:50:02.811Z"
   },
   {
    "duration": 3,
    "start_time": "2022-03-09T03:50:17.906Z"
   },
   {
    "duration": 370,
    "start_time": "2022-03-09T03:53:09.694Z"
   },
   {
    "duration": 7390,
    "start_time": "2022-03-09T03:53:29.812Z"
   },
   {
    "duration": 7210,
    "start_time": "2022-03-09T03:55:14.934Z"
   },
   {
    "duration": 437,
    "start_time": "2022-03-09T03:55:39.758Z"
   },
   {
    "duration": 515,
    "start_time": "2022-03-09T03:57:40.910Z"
   },
   {
    "duration": 248,
    "start_time": "2022-03-09T03:58:59.621Z"
   },
   {
    "duration": 295,
    "start_time": "2022-03-09T04:00:10.577Z"
   },
   {
    "duration": 281,
    "start_time": "2022-03-09T04:02:16.593Z"
   },
   {
    "duration": 223,
    "start_time": "2022-03-09T04:02:45.756Z"
   },
   {
    "duration": 294,
    "start_time": "2022-03-09T04:03:10.189Z"
   },
   {
    "duration": 215,
    "start_time": "2022-03-09T04:03:22.256Z"
   },
   {
    "duration": 160,
    "start_time": "2022-03-09T04:09:43.996Z"
   },
   {
    "duration": 3,
    "start_time": "2022-03-09T04:09:52.136Z"
   },
   {
    "duration": 53,
    "start_time": "2022-03-09T04:09:52.166Z"
   },
   {
    "duration": 8,
    "start_time": "2022-03-09T04:09:52.220Z"
   },
   {
    "duration": 44,
    "start_time": "2022-03-09T04:09:52.229Z"
   },
   {
    "duration": 38,
    "start_time": "2022-03-09T04:09:52.277Z"
   },
   {
    "duration": 6,
    "start_time": "2022-03-09T04:09:52.316Z"
   },
   {
    "duration": 18,
    "start_time": "2022-03-09T04:09:52.323Z"
   },
   {
    "duration": 8,
    "start_time": "2022-03-09T04:09:52.342Z"
   },
   {
    "duration": 6,
    "start_time": "2022-03-09T04:09:52.352Z"
   },
   {
    "duration": 11,
    "start_time": "2022-03-09T04:09:52.360Z"
   },
   {
    "duration": 41,
    "start_time": "2022-03-09T04:09:52.372Z"
   },
   {
    "duration": 306,
    "start_time": "2022-03-09T04:09:52.414Z"
   },
   {
    "duration": 595,
    "start_time": "2022-03-09T04:09:52.721Z"
   },
   {
    "duration": 6,
    "start_time": "2022-03-09T04:09:53.318Z"
   },
   {
    "duration": 228,
    "start_time": "2022-03-09T04:09:53.326Z"
   },
   {
    "duration": 24,
    "start_time": "2022-03-09T04:09:53.555Z"
   },
   {
    "duration": 34,
    "start_time": "2022-03-09T04:09:53.580Z"
   },
   {
    "duration": 262,
    "start_time": "2022-03-09T04:09:53.615Z"
   },
   {
    "duration": 245,
    "start_time": "2022-03-09T04:09:53.878Z"
   },
   {
    "duration": 2,
    "start_time": "2022-03-09T04:09:54.124Z"
   },
   {
    "duration": 160,
    "start_time": "2022-03-09T04:09:54.127Z"
   },
   {
    "duration": 317,
    "start_time": "2022-03-09T04:09:54.288Z"
   },
   {
    "duration": 272,
    "start_time": "2022-03-09T04:09:54.607Z"
   },
   {
    "duration": 449,
    "start_time": "2022-03-09T04:09:54.881Z"
   },
   {
    "duration": 254,
    "start_time": "2022-03-09T04:09:55.331Z"
   },
   {
    "duration": 279,
    "start_time": "2022-03-09T04:09:55.586Z"
   },
   {
    "duration": 463,
    "start_time": "2022-03-09T04:09:55.867Z"
   },
   {
    "duration": 422,
    "start_time": "2022-03-09T04:10:42.080Z"
   },
   {
    "duration": 156,
    "start_time": "2022-03-09T04:12:10.430Z"
   },
   {
    "duration": 465,
    "start_time": "2022-03-09T04:12:59.074Z"
   },
   {
    "duration": 358,
    "start_time": "2022-03-09T04:13:08.228Z"
   },
   {
    "duration": 1060,
    "start_time": "2022-03-09T04:15:36.167Z"
   },
   {
    "duration": 59,
    "start_time": "2022-03-09T04:15:37.229Z"
   },
   {
    "duration": 9,
    "start_time": "2022-03-09T04:15:37.289Z"
   },
   {
    "duration": 45,
    "start_time": "2022-03-09T04:15:37.299Z"
   },
   {
    "duration": 11,
    "start_time": "2022-03-09T04:15:37.345Z"
   },
   {
    "duration": 4,
    "start_time": "2022-03-09T04:15:37.358Z"
   },
   {
    "duration": 16,
    "start_time": "2022-03-09T04:15:37.363Z"
   },
   {
    "duration": 8,
    "start_time": "2022-03-09T04:15:37.404Z"
   },
   {
    "duration": 7,
    "start_time": "2022-03-09T04:15:37.414Z"
   },
   {
    "duration": 13,
    "start_time": "2022-03-09T04:15:37.423Z"
   },
   {
    "duration": 13,
    "start_time": "2022-03-09T04:15:37.438Z"
   },
   {
    "duration": 410,
    "start_time": "2022-03-09T04:15:37.453Z"
   },
   {
    "duration": 516,
    "start_time": "2022-03-09T04:15:37.864Z"
   },
   {
    "duration": 6,
    "start_time": "2022-03-09T04:15:38.381Z"
   },
   {
    "duration": 231,
    "start_time": "2022-03-09T04:15:38.389Z"
   },
   {
    "duration": 24,
    "start_time": "2022-03-09T04:15:38.621Z"
   },
   {
    "duration": 18,
    "start_time": "2022-03-09T04:15:38.646Z"
   },
   {
    "duration": 280,
    "start_time": "2022-03-09T04:15:38.665Z"
   },
   {
    "duration": 250,
    "start_time": "2022-03-09T04:15:38.946Z"
   },
   {
    "duration": 8,
    "start_time": "2022-03-09T04:15:39.198Z"
   },
   {
    "duration": 225,
    "start_time": "2022-03-09T04:15:39.207Z"
   },
   {
    "duration": 261,
    "start_time": "2022-03-09T04:15:39.433Z"
   },
   {
    "duration": 280,
    "start_time": "2022-03-09T04:15:39.695Z"
   },
   {
    "duration": 453,
    "start_time": "2022-03-09T04:15:39.977Z"
   },
   {
    "duration": 252,
    "start_time": "2022-03-09T04:15:40.432Z"
   },
   {
    "duration": 284,
    "start_time": "2022-03-09T04:15:40.685Z"
   },
   {
    "duration": 460,
    "start_time": "2022-03-09T04:15:40.973Z"
   },
   {
    "duration": 164,
    "start_time": "2022-03-09T04:15:41.435Z"
   },
   {
    "duration": 441,
    "start_time": "2022-03-09T04:15:41.600Z"
   },
   {
    "duration": 7,
    "start_time": "2022-03-09T04:15:42.042Z"
   },
   {
    "duration": 395,
    "start_time": "2022-03-09T04:15:42.051Z"
   },
   {
    "duration": 372,
    "start_time": "2022-03-09T04:15:42.447Z"
   },
   {
    "duration": 8,
    "start_time": "2022-03-09T04:15:42.820Z"
   },
   {
    "duration": 9,
    "start_time": "2022-03-09T04:15:42.829Z"
   },
   {
    "duration": 10,
    "start_time": "2022-03-09T04:15:42.839Z"
   },
   {
    "duration": 383,
    "start_time": "2022-03-09T04:17:03.946Z"
   },
   {
    "duration": 1457,
    "start_time": "2022-03-09T17:09:10.693Z"
   },
   {
    "duration": 61,
    "start_time": "2022-03-09T17:09:12.153Z"
   },
   {
    "duration": 14,
    "start_time": "2022-03-09T17:09:12.217Z"
   },
   {
    "duration": 99,
    "start_time": "2022-03-09T17:09:12.234Z"
   },
   {
    "duration": 50,
    "start_time": "2022-03-09T17:09:12.335Z"
   },
   {
    "duration": 11,
    "start_time": "2022-03-09T17:09:12.387Z"
   },
   {
    "duration": 29,
    "start_time": "2022-03-09T17:09:12.400Z"
   },
   {
    "duration": 11,
    "start_time": "2022-03-09T17:09:12.433Z"
   },
   {
    "duration": 47,
    "start_time": "2022-03-09T17:09:12.447Z"
   },
   {
    "duration": 19,
    "start_time": "2022-03-09T17:09:12.497Z"
   },
   {
    "duration": 24,
    "start_time": "2022-03-09T17:09:12.518Z"
   },
   {
    "duration": 605,
    "start_time": "2022-03-09T17:09:12.544Z"
   },
   {
    "duration": 983,
    "start_time": "2022-03-09T17:09:13.151Z"
   },
   {
    "duration": 12,
    "start_time": "2022-03-09T17:09:14.137Z"
   },
   {
    "duration": 431,
    "start_time": "2022-03-09T17:09:14.151Z"
   },
   {
    "duration": 39,
    "start_time": "2022-03-09T17:09:14.584Z"
   },
   {
    "duration": 58,
    "start_time": "2022-03-09T17:09:14.626Z"
   },
   {
    "duration": 489,
    "start_time": "2022-03-09T17:09:14.687Z"
   },
   {
    "duration": 483,
    "start_time": "2022-03-09T17:09:15.183Z"
   },
   {
    "duration": 14,
    "start_time": "2022-03-09T17:09:15.668Z"
   },
   {
    "duration": 409,
    "start_time": "2022-03-09T17:09:15.685Z"
   },
   {
    "duration": 433,
    "start_time": "2022-03-09T17:09:16.096Z"
   },
   {
    "duration": 466,
    "start_time": "2022-03-09T17:09:16.534Z"
   },
   {
    "duration": 737,
    "start_time": "2022-03-09T17:09:17.003Z"
   },
   {
    "duration": 607,
    "start_time": "2022-03-09T17:09:17.743Z"
   },
   {
    "duration": 414,
    "start_time": "2022-03-09T17:09:18.353Z"
   },
   {
    "duration": 758,
    "start_time": "2022-03-09T17:09:18.770Z"
   },
   {
    "duration": 456,
    "start_time": "2022-03-09T17:09:19.530Z"
   },
   {
    "duration": 943,
    "start_time": "2022-03-09T17:09:19.989Z"
   },
   {
    "duration": 9,
    "start_time": "2022-03-09T17:09:20.935Z"
   },
   {
    "duration": 758,
    "start_time": "2022-03-09T17:09:20.947Z"
   },
   {
    "duration": 710,
    "start_time": "2022-03-09T17:09:21.708Z"
   },
   {
    "duration": 12,
    "start_time": "2022-03-09T17:09:22.420Z"
   },
   {
    "duration": 10,
    "start_time": "2022-03-09T17:09:22.434Z"
   },
   {
    "duration": 46,
    "start_time": "2022-03-09T17:09:22.447Z"
   },
   {
    "duration": 702,
    "start_time": "2022-03-09T17:14:24.932Z"
   },
   {
    "duration": 728,
    "start_time": "2022-03-09T17:18:35.786Z"
   },
   {
    "duration": 784,
    "start_time": "2022-03-09T17:26:02.586Z"
   },
   {
    "duration": 898,
    "start_time": "2022-03-09T17:27:23.491Z"
   },
   {
    "duration": 714,
    "start_time": "2022-03-09T17:27:34.806Z"
   },
   {
    "duration": 705,
    "start_time": "2022-03-09T17:38:32.546Z"
   },
   {
    "duration": 7,
    "start_time": "2022-03-09T18:03:13.994Z"
   },
   {
    "duration": 6,
    "start_time": "2022-03-09T18:03:24.522Z"
   },
   {
    "duration": 6,
    "start_time": "2022-03-09T18:03:53.210Z"
   },
   {
    "duration": 6,
    "start_time": "2022-03-09T18:04:14.872Z"
   },
   {
    "duration": 422,
    "start_time": "2022-03-09T18:04:35.706Z"
   },
   {
    "duration": 8,
    "start_time": "2022-03-09T18:04:43.240Z"
   },
   {
    "duration": 11,
    "start_time": "2022-03-09T18:06:02.655Z"
   },
   {
    "duration": 11,
    "start_time": "2022-03-09T18:06:32.900Z"
   },
   {
    "duration": 11,
    "start_time": "2022-03-09T18:06:49.892Z"
   },
   {
    "duration": 13,
    "start_time": "2022-03-09T18:10:12.456Z"
   },
   {
    "duration": 1020,
    "start_time": "2022-03-09T18:12:42.010Z"
   },
   {
    "duration": 503,
    "start_time": "2022-03-09T18:22:48.543Z"
   },
   {
    "duration": 315,
    "start_time": "2022-03-09T18:23:15.925Z"
   },
   {
    "duration": 308,
    "start_time": "2022-03-09T18:23:48.009Z"
   },
   {
    "duration": 994,
    "start_time": "2022-03-09T18:24:52.524Z"
   },
   {
    "duration": 102,
    "start_time": "2022-03-09T18:30:16.549Z"
   },
   {
    "duration": 2072,
    "start_time": "2022-03-09T18:37:48.688Z"
   },
   {
    "duration": 95,
    "start_time": "2022-03-09T18:37:50.764Z"
   },
   {
    "duration": 39,
    "start_time": "2022-03-09T18:37:50.863Z"
   },
   {
    "duration": 103,
    "start_time": "2022-03-09T18:37:50.906Z"
   },
   {
    "duration": 21,
    "start_time": "2022-03-09T18:37:51.011Z"
   },
   {
    "duration": 33,
    "start_time": "2022-03-09T18:37:51.035Z"
   },
   {
    "duration": 54,
    "start_time": "2022-03-09T18:37:51.070Z"
   },
   {
    "duration": 15,
    "start_time": "2022-03-09T18:37:51.129Z"
   },
   {
    "duration": 12,
    "start_time": "2022-03-09T18:37:51.148Z"
   },
   {
    "duration": 21,
    "start_time": "2022-03-09T18:37:51.163Z"
   },
   {
    "duration": 24,
    "start_time": "2022-03-09T18:37:51.187Z"
   },
   {
    "duration": 659,
    "start_time": "2022-03-09T18:37:51.213Z"
   },
   {
    "duration": 1198,
    "start_time": "2022-03-09T18:37:51.875Z"
   },
   {
    "duration": 10,
    "start_time": "2022-03-09T18:37:53.083Z"
   },
   {
    "duration": 451,
    "start_time": "2022-03-09T18:37:53.096Z"
   },
   {
    "duration": 54,
    "start_time": "2022-03-09T18:37:53.550Z"
   },
   {
    "duration": 36,
    "start_time": "2022-03-09T18:37:53.607Z"
   },
   {
    "duration": 529,
    "start_time": "2022-03-09T18:37:53.645Z"
   },
   {
    "duration": 508,
    "start_time": "2022-03-09T18:37:54.181Z"
   },
   {
    "duration": 3,
    "start_time": "2022-03-09T18:37:54.692Z"
   },
   {
    "duration": 400,
    "start_time": "2022-03-09T18:37:54.699Z"
   },
   {
    "duration": 411,
    "start_time": "2022-03-09T18:37:55.101Z"
   },
   {
    "duration": 396,
    "start_time": "2022-03-09T18:37:55.518Z"
   },
   {
    "duration": 731,
    "start_time": "2022-03-09T18:37:55.918Z"
   },
   {
    "duration": 413,
    "start_time": "2022-03-09T18:37:56.652Z"
   },
   {
    "duration": 387,
    "start_time": "2022-03-09T18:37:57.067Z"
   },
   {
    "duration": 691,
    "start_time": "2022-03-09T18:37:57.457Z"
   },
   {
    "duration": 318,
    "start_time": "2022-03-09T18:37:58.150Z"
   },
   {
    "duration": 818,
    "start_time": "2022-03-09T18:37:58.470Z"
   },
   {
    "duration": 9,
    "start_time": "2022-03-09T18:37:59.291Z"
   },
   {
    "duration": 726,
    "start_time": "2022-03-09T18:37:59.302Z"
   },
   {
    "duration": 751,
    "start_time": "2022-03-09T18:38:00.031Z"
   },
   {
    "duration": 13,
    "start_time": "2022-03-09T18:38:00.785Z"
   },
   {
    "duration": 22,
    "start_time": "2022-03-09T18:38:00.800Z"
   },
   {
    "duration": 41,
    "start_time": "2022-03-09T18:38:00.825Z"
   },
   {
    "duration": 25,
    "start_time": "2022-03-09T18:38:00.869Z"
   },
   {
    "duration": 23,
    "start_time": "2022-03-09T18:38:00.897Z"
   },
   {
    "duration": 36,
    "start_time": "2022-03-09T18:38:00.923Z"
   },
   {
    "duration": 1264,
    "start_time": "2022-03-10T10:01:11.437Z"
   },
   {
    "duration": 62,
    "start_time": "2022-03-10T10:01:12.704Z"
   },
   {
    "duration": 12,
    "start_time": "2022-03-10T10:01:12.769Z"
   },
   {
    "duration": 88,
    "start_time": "2022-03-10T10:01:12.784Z"
   },
   {
    "duration": 24,
    "start_time": "2022-03-10T10:01:12.902Z"
   },
   {
    "duration": 17,
    "start_time": "2022-03-10T10:01:12.928Z"
   },
   {
    "duration": 40,
    "start_time": "2022-03-10T10:01:12.947Z"
   },
   {
    "duration": 18,
    "start_time": "2022-03-10T10:01:12.990Z"
   },
   {
    "duration": 9,
    "start_time": "2022-03-10T10:01:13.011Z"
   },
   {
    "duration": 28,
    "start_time": "2022-03-10T10:01:13.022Z"
   },
   {
    "duration": 58,
    "start_time": "2022-03-10T10:01:13.053Z"
   },
   {
    "duration": 627,
    "start_time": "2022-03-10T10:01:13.113Z"
   },
   {
    "duration": 723,
    "start_time": "2022-03-10T10:01:13.742Z"
   },
   {
    "duration": 11,
    "start_time": "2022-03-10T10:01:14.467Z"
   },
   {
    "duration": 347,
    "start_time": "2022-03-10T10:01:14.480Z"
   },
   {
    "duration": 32,
    "start_time": "2022-03-10T10:01:14.830Z"
   },
   {
    "duration": 52,
    "start_time": "2022-03-10T10:01:14.864Z"
   },
   {
    "duration": 371,
    "start_time": "2022-03-10T10:01:14.918Z"
   },
   {
    "duration": 398,
    "start_time": "2022-03-10T10:01:15.291Z"
   },
   {
    "duration": 9,
    "start_time": "2022-03-10T10:01:15.692Z"
   },
   {
    "duration": 345,
    "start_time": "2022-03-10T10:01:15.704Z"
   },
   {
    "duration": 375,
    "start_time": "2022-03-10T10:01:16.051Z"
   },
   {
    "duration": 330,
    "start_time": "2022-03-10T10:01:16.432Z"
   },
   {
    "duration": 590,
    "start_time": "2022-03-10T10:01:16.765Z"
   },
   {
    "duration": 347,
    "start_time": "2022-03-10T10:01:17.357Z"
   },
   {
    "duration": 304,
    "start_time": "2022-03-10T10:01:17.706Z"
   },
   {
    "duration": 534,
    "start_time": "2022-03-10T10:01:18.012Z"
   },
   {
    "duration": 241,
    "start_time": "2022-03-10T10:01:18.548Z"
   },
   {
    "duration": 640,
    "start_time": "2022-03-10T10:01:18.791Z"
   },
   {
    "duration": 7,
    "start_time": "2022-03-10T10:01:19.433Z"
   },
   {
    "duration": 542,
    "start_time": "2022-03-10T10:01:19.441Z"
   },
   {
    "duration": 516,
    "start_time": "2022-03-10T10:01:19.986Z"
   },
   {
    "duration": 525,
    "start_time": "2022-03-10T10:01:20.504Z"
   },
   {
    "duration": 10,
    "start_time": "2022-03-10T10:01:21.031Z"
   },
   {
    "duration": 27,
    "start_time": "2022-03-10T10:01:21.044Z"
   },
   {
    "duration": 7,
    "start_time": "2022-03-10T10:01:21.073Z"
   },
   {
    "duration": 11,
    "start_time": "2022-03-10T10:01:21.101Z"
   },
   {
    "duration": 11,
    "start_time": "2022-03-10T10:01:21.114Z"
   },
   {
    "duration": 10,
    "start_time": "2022-03-10T10:01:21.127Z"
   },
   {
    "duration": 886,
    "start_time": "2022-03-10T10:09:00.537Z"
   },
   {
    "duration": 449,
    "start_time": "2022-03-10T10:09:08.343Z"
   },
   {
    "duration": 448,
    "start_time": "2022-03-10T10:09:13.456Z"
   },
   {
    "duration": 446,
    "start_time": "2022-03-10T10:09:50.567Z"
   }
  ],
  "kernelspec": {
   "display_name": "Python 3 (ipykernel)",
   "language": "python",
   "name": "python3"
  },
  "language_info": {
   "codemirror_mode": {
    "name": "ipython",
    "version": 3
   },
   "file_extension": ".py",
   "mimetype": "text/x-python",
   "name": "python",
   "nbconvert_exporter": "python",
   "pygments_lexer": "ipython3",
   "version": "3.9.5"
  },
  "toc": {
   "base_numbering": 1,
   "nav_menu": {},
   "number_sections": true,
   "sideBar": true,
   "skip_h1_title": true,
   "title_cell": "Table of Contents",
   "title_sidebar": "Contents",
   "toc_cell": false,
   "toc_position": {},
   "toc_section_display": true,
   "toc_window_display": false
  }
 },
 "nbformat": 4,
 "nbformat_minor": 2
}
